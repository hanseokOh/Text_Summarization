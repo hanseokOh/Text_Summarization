{
 "cells": [
  {
   "cell_type": "markdown",
   "metadata": {
    "colab_type": "text",
    "id": "1qwZWglKUJwY"
   },
   "source": [
    "# edubey / text-summarizer\n",
    "\n",
    "아래의 깃헙을 참고하여 test 하기 위한 파일입니다. 해당 알고리즘의 설명은 아래의 Medium 자료를 참고하여 작성 수정했습니다.\n",
    "\n",
    "- https://github.com/edubey/text-summarizer\n",
    "\n",
    "-  Medium 및 코드 설명\n",
    "\n",
    "> https://towardsdatascience.com/understand-text-summarization-and-create-your-own-summarizer-in-python-b26a9f09fc70"
   ]
  },
  {
   "cell_type": "markdown",
   "metadata": {
    "colab_type": "text",
    "id": "cTeEwTWfX2w-"
   },
   "source": [
    "### Description"
   ]
  },
  {
   "cell_type": "markdown",
   "metadata": {
    "colab_type": "text",
    "id": "zNsRVrV8XcFl"
   },
   "source": [
    "> <b>unsupervised learning 접근 방식</b>\n",
    "\n",
    "- single document의 문장들의 matrix를 구성해서 각 문장안에 들어가는 단어들을 이용한 vector를 형성한다. 비교할 두 문장의 vector의 cosine similarity를 기반으로 문장 유사도를 측정한다. 전체 문장에 대해서 다른 문장들과 유사도가 가장 높은 문장을 사용자 지정 Top-N개 선정하여 요약 결과로 제시한다.\n",
    "\n",
    "\n",
    "- 장점 : \n",
    "\n",
    "    실제 test 셋에 적용하기 위해서 사전에 오랜 시간 학습시키거나 모델을 형성할 필요가 없다.\n",
    "    \n",
    "    \n",
    "> <b>문장 유사도 측정 방식 : cosine similarity</b>\n",
    "\n",
    "- 설명 : 두 개의 non-zero vector들 간의 내적 공간에 대해서 cosine 각도를 계산해서 유사도를 측정하는 방식\n",
    "\n",
    "    https://ko.wikipedia.org/wiki/%EC%BD%94%EC%82%AC%EC%9D%B8_%EC%9C%A0%EC%82%AC%EB%8F%84\n",
    "\n",
    "> <b>Text Rank algorithm</b>\n",
    "\n",
    "- 설명: Graph-based ranking algorithm for NLP\n",
    "- 특징:\n",
    "    \n",
    "    이전의 training data에 의존하지 않고, 독립적인 text를 이용해서 적용 가능하다. \n",
    "\n",
    "> <b>Code Flow</b>\n",
    "\n",
    "<b> Input article → split into sentences → remove stop words → build a similarity matrix → generate rank based on matrix → pick top N sentences for summary.</b>"
   ]
  },
  {
   "cell_type": "markdown",
   "metadata": {
    "colab_type": "text",
    "id": "mA-uEXuBWDZo"
   },
   "source": [
    "# text-summarizer.py 코드 설명"
   ]
  },
  {
   "cell_type": "markdown",
   "metadata": {
    "colab_type": "text",
    "id": "5InwoYFZYdZl"
   },
   "source": [
    "##  import all necessary libraries\n"
   ]
  },
  {
   "cell_type": "code",
   "execution_count": 8,
   "metadata": {
    "ExecuteTime": {
     "end_time": "2019-10-24T07:18:48.628970Z",
     "start_time": "2019-10-24T07:18:47.416453Z"
    },
    "colab": {},
    "colab_type": "code",
    "id": "hKz3ecPlWNlT"
   },
   "outputs": [],
   "source": [
    "import nltk\n",
    "# from nltk.corpus import stopwords\n",
    "from nltk.cluster.util import cosine_distance\n",
    "import numpy as np\n",
    "import networkx as nx\n",
    "import re"
   ]
  },
  {
   "cell_type": "markdown",
   "metadata": {
    "colab_type": "text",
    "id": "qfmjQnHGYhVi"
   },
   "source": [
    "## Generate clean sentences"
   ]
  },
  {
   "cell_type": "code",
   "execution_count": 109,
   "metadata": {
    "ExecuteTime": {
     "end_time": "2019-10-24T08:25:53.436367Z",
     "start_time": "2019-10-24T08:25:53.427388Z"
    }
   },
   "outputs": [],
   "source": [
    "def read_article(file_name):\n",
    "    file = open(file_name, \"r\",encoding='utf-8')\n",
    "    filedata = file.readlines()\n",
    "    article = filedata[0].split(\".\")\n",
    "    sentences = []\n",
    "    removed = []\n",
    "    print(\"article: \",article)\n",
    "    for sentence in article:\n",
    "#         print(\"sentence:\",sentence)\n",
    "        hangul = re.compile('[^ㄱ-ㅣ 가-힣]+') # 정교화 필요\n",
    "        sentences.append(hangul.sub('',sentence).split(\" \"))\n",
    "        removed.append(hangul.findall(sentence)) #제거된 단어들 확인 필요 시 return에 추가\n",
    "        \n",
    "    return sentences"
   ]
  },
  {
   "cell_type": "code",
   "execution_count": 66,
   "metadata": {
    "ExecuteTime": {
     "end_time": "2019-10-24T07:58:36.543432Z",
     "start_time": "2019-10-24T07:58:30.042692Z"
    }
   },
   "outputs": [
    {
     "name": "stdout",
     "output_type": "stream",
     "text": [
      "Collecting konlpy\n",
      "  Using cached https://files.pythonhosted.org/packages/e5/3d/4e983cd98d87b50b2ab0387d73fa946f745aa8164e8888a714d5129f9765/konlpy-0.5.1-py2.py3-none-any.whl\n",
      "Collecting JPype1>=0.5.7 (from konlpy)\n",
      "  Using cached https://files.pythonhosted.org/packages/d3/08/f4bb58c1c0dff93e9628cd0e1025f80fcb5a4551310455feb96b96e58ad1/JPype1-0.7.0-cp37-cp37m-win_amd64.whl\n",
      "Installing collected packages: JPype1, konlpy\n",
      "Successfully installed JPype1-0.7.0 konlpy-0.5.1\n"
     ]
    }
   ],
   "source": [
    "!pip install konlpy"
   ]
  },
  {
   "cell_type": "code",
   "execution_count": 90,
   "metadata": {
    "ExecuteTime": {
     "end_time": "2019-10-24T08:11:49.630031Z",
     "start_time": "2019-10-24T08:11:49.619023Z"
    },
    "collapsed": true
   },
   "outputs": [
    {
     "name": "stdout",
     "output_type": "stream",
     "text": [
      "article:  ['\"써머스플랫폼이 운영하는 가격비교 사이트 \\'에누리 가격비교\\'가 가구 교체 시즌에 맞춰 오는 28일까지 2개의 가구 할인 기획전을 진행한다', '우선 11번가와 함께 새학기를 맞아 학생가구를 찾는 고객들을 위한 ‘새학기 가구 추가할인 기획전’을 진행한다', '에누리 가격비교 홈페이지를 통해 11번가에서 서재/사무용 가구, 유아동 가구 등을 구매할 시 최대 2만 원의 추가 할인 혜택을 받을 수 있다', '/ 에누리닷컴 제공 @머니S MNB, 식품 외식 유통 · 프랜차이즈 가맹 & 유망 창업 아이템의 모든 것또한 28일까지 위메프와 함께 해외 유명 가구 브랜드를 대상으로 ‘해외직구 홈&리빙 페어’도 진행한다', '에누리 가격비교 홈페이지를 통해 위메프에서 씰리(Sealy), 랠리(Rally) 등 해외직구 인기 침구 및 가구, 인테리어 제품을 구매할 시 기획전 전 품목을 대상으로 최대 20만 원의 즉시 할인 혜택을 제공한다', '에누리 관계자는 “새학기, 봄맞이 등 가구교체 시즌에 맞춰 고객들이 부담 없는 가격에 가구를 장만할 수 있는 기획전을 마련했다”라며, “앞으로도 최저가 쇼핑정보와 함께 고객만족을 위한 실질적인 혜택을 제공할 수 있도록 최선을 다할 것이다”라고 말했다', '보다 자세한 내용은 에누리 가격비교 사이트와 모바일 앱, 웹에서 확인할 수 있다', '강동완 기자 ▶ 고수들의 재테크 비법 ▶ 박학다식 \\'이건희칼럼\\' <저작권자 ⓒ \\'성공을 꿈꾸는 사람들의 경제 뉴스\\' 머니S, 무단전재 및 재배포 금지>\"\\n']\n",
      "sentence: \"써머스플랫폼이 운영하는 가격비교 사이트 '에누리 가격비교'가 가구 교체 시즌에 맞춰 오는 28일까지 2개의 가구 할인 기획전을 진행한다\n",
      "sentence: 우선 11번가와 함께 새학기를 맞아 학생가구를 찾는 고객들을 위한 ‘새학기 가구 추가할인 기획전’을 진행한다\n",
      "sentence: 에누리 가격비교 홈페이지를 통해 11번가에서 서재/사무용 가구, 유아동 가구 등을 구매할 시 최대 2만 원의 추가 할인 혜택을 받을 수 있다\n",
      "sentence: / 에누리닷컴 제공 @머니S MNB, 식품 외식 유통 · 프랜차이즈 가맹 & 유망 창업 아이템의 모든 것또한 28일까지 위메프와 함께 해외 유명 가구 브랜드를 대상으로 ‘해외직구 홈&리빙 페어’도 진행한다\n",
      "sentence: 에누리 가격비교 홈페이지를 통해 위메프에서 씰리(Sealy), 랠리(Rally) 등 해외직구 인기 침구 및 가구, 인테리어 제품을 구매할 시 기획전 전 품목을 대상으로 최대 20만 원의 즉시 할인 혜택을 제공한다\n",
      "sentence: 에누리 관계자는 “새학기, 봄맞이 등 가구교체 시즌에 맞춰 고객들이 부담 없는 가격에 가구를 장만할 수 있는 기획전을 마련했다”라며, “앞으로도 최저가 쇼핑정보와 함께 고객만족을 위한 실질적인 혜택을 제공할 수 있도록 최선을 다할 것이다”라고 말했다\n",
      "sentence: 보다 자세한 내용은 에누리 가격비교 사이트와 모바일 앱, 웹에서 확인할 수 있다\n",
      "sentence: 강동완 기자 ▶ 고수들의 재테크 비법 ▶ 박학다식 '이건희칼럼' <저작권자 ⓒ '성공을 꿈꾸는 사람들의 경제 뉴스' 머니S, 무단전재 및 재배포 금지>\"\n",
      "\n"
     ]
    },
    {
     "data": {
      "text/plain": [
       "[['써머스플랫폼이',\n",
       "  '운영하는',\n",
       "  '가격비교',\n",
       "  '사이트',\n",
       "  '에누리',\n",
       "  '가격비교가',\n",
       "  '가구',\n",
       "  '교체',\n",
       "  '시즌에',\n",
       "  '맞춰',\n",
       "  '오는',\n",
       "  '일까지',\n",
       "  '개의',\n",
       "  '가구',\n",
       "  '할인',\n",
       "  '기획전을',\n",
       "  '진행한다'],\n",
       " ['우선',\n",
       "  '번가와',\n",
       "  '함께',\n",
       "  '새학기를',\n",
       "  '맞아',\n",
       "  '학생가구를',\n",
       "  '찾는',\n",
       "  '고객들을',\n",
       "  '위한',\n",
       "  '새학기',\n",
       "  '가구',\n",
       "  '추가할인',\n",
       "  '기획전을',\n",
       "  '진행한다'],\n",
       " ['에누리',\n",
       "  '가격비교',\n",
       "  '홈페이지를',\n",
       "  '통해',\n",
       "  '번가에서',\n",
       "  '서재사무용',\n",
       "  '가구',\n",
       "  '유아동',\n",
       "  '가구',\n",
       "  '등을',\n",
       "  '구매할',\n",
       "  '시',\n",
       "  '최대',\n",
       "  '만',\n",
       "  '원의',\n",
       "  '추가',\n",
       "  '할인',\n",
       "  '혜택을',\n",
       "  '받을',\n",
       "  '수',\n",
       "  '있다'],\n",
       " ['',\n",
       "  '에누리닷컴',\n",
       "  '제공',\n",
       "  '머니',\n",
       "  '',\n",
       "  '식품',\n",
       "  '외식',\n",
       "  '유통',\n",
       "  '',\n",
       "  '프랜차이즈',\n",
       "  '가맹',\n",
       "  '',\n",
       "  '유망',\n",
       "  '창업',\n",
       "  '아이템의',\n",
       "  '모든',\n",
       "  '것또한',\n",
       "  '일까지',\n",
       "  '위메프와',\n",
       "  '함께',\n",
       "  '해외',\n",
       "  '유명',\n",
       "  '가구',\n",
       "  '브랜드를',\n",
       "  '대상으로',\n",
       "  '해외직구',\n",
       "  '홈리빙',\n",
       "  '페어도',\n",
       "  '진행한다'],\n",
       " ['에누리',\n",
       "  '가격비교',\n",
       "  '홈페이지를',\n",
       "  '통해',\n",
       "  '위메프에서',\n",
       "  '씰리',\n",
       "  '랠리',\n",
       "  '등',\n",
       "  '해외직구',\n",
       "  '인기',\n",
       "  '침구',\n",
       "  '및',\n",
       "  '가구',\n",
       "  '인테리어',\n",
       "  '제품을',\n",
       "  '구매할',\n",
       "  '시',\n",
       "  '기획전',\n",
       "  '전',\n",
       "  '품목을',\n",
       "  '대상으로',\n",
       "  '최대',\n",
       "  '만',\n",
       "  '원의',\n",
       "  '즉시',\n",
       "  '할인',\n",
       "  '혜택을',\n",
       "  '제공한다'],\n",
       " ['에누리',\n",
       "  '관계자는',\n",
       "  '새학기',\n",
       "  '봄맞이',\n",
       "  '등',\n",
       "  '가구교체',\n",
       "  '시즌에',\n",
       "  '맞춰',\n",
       "  '고객들이',\n",
       "  '부담',\n",
       "  '없는',\n",
       "  '가격에',\n",
       "  '가구를',\n",
       "  '장만할',\n",
       "  '수',\n",
       "  '있는',\n",
       "  '기획전을',\n",
       "  '마련했다라며',\n",
       "  '앞으로도',\n",
       "  '최저가',\n",
       "  '쇼핑정보와',\n",
       "  '함께',\n",
       "  '고객만족을',\n",
       "  '위한',\n",
       "  '실질적인',\n",
       "  '혜택을',\n",
       "  '제공할',\n",
       "  '수',\n",
       "  '있도록',\n",
       "  '최선을',\n",
       "  '다할',\n",
       "  '것이다라고',\n",
       "  '말했다'],\n",
       " ['보다',\n",
       "  '자세한',\n",
       "  '내용은',\n",
       "  '에누리',\n",
       "  '가격비교',\n",
       "  '사이트와',\n",
       "  '모바일',\n",
       "  '앱',\n",
       "  '웹에서',\n",
       "  '확인할',\n",
       "  '수',\n",
       "  '있다'],\n",
       " ['강동완',\n",
       "  '기자',\n",
       "  '',\n",
       "  '고수들의',\n",
       "  '재테크',\n",
       "  '비법',\n",
       "  '',\n",
       "  '박학다식',\n",
       "  '이건희칼럼',\n",
       "  '저작권자',\n",
       "  '',\n",
       "  '성공을',\n",
       "  '꿈꾸는',\n",
       "  '사람들의',\n",
       "  '경제',\n",
       "  '뉴스',\n",
       "  '머니',\n",
       "  '무단전재',\n",
       "  '및',\n",
       "  '재배포',\n",
       "  '금지']]"
      ]
     },
     "execution_count": 90,
     "metadata": {},
     "output_type": "execute_result"
    }
   ],
   "source": [
    "read_article('korean_text.txt')"
   ]
  },
  {
   "cell_type": "markdown",
   "metadata": {
    "colab_type": "text",
    "id": "UKxwAASEboFq"
   },
   "source": [
    "## Similarity matrix"
   ]
  },
  {
   "cell_type": "code",
   "execution_count": 119,
   "metadata": {
    "ExecuteTime": {
     "end_time": "2019-10-24T08:29:28.666857Z",
     "start_time": "2019-10-24T08:29:28.655803Z"
    },
    "colab": {},
    "colab_type": "code",
    "id": "2Mxz6dFXWQgY"
   },
   "outputs": [],
   "source": [
    "def sentence_similarity(sent1, sent2, stopwords=None):\n",
    "    if stopwords is None:\n",
    "        stopwords = []\n",
    "\n",
    "    sent1 = [w.lower() for w in sent1]\n",
    "    sent2 = [w.lower() for w in sent2]\n",
    "    \n",
    "    all_words = list(set(sent1 + sent2))\n",
    " \n",
    "    vector1 = [0] * len(all_words)\n",
    "    vector2 = [0] * len(all_words)\n",
    " \n",
    "    # build the vector for the first sentence\n",
    "    for w in sent1:\n",
    "        if w in stopwords:\n",
    "            continue\n",
    "        vector1[all_words.index(w)] += 1\n",
    " \n",
    "    # build the vector for the second sentence\n",
    "    for w in sent2:\n",
    "        if w in stopwords:\n",
    "            continue\n",
    "        vector2[all_words.index(w)] += 1\n",
    " \n",
    "    return 1 - cosine_distance(vector1, vector2)\n"
   ]
  },
  {
   "cell_type": "code",
   "execution_count": 120,
   "metadata": {
    "ExecuteTime": {
     "end_time": "2019-10-24T08:29:29.303229Z",
     "start_time": "2019-10-24T08:29:29.294294Z"
    },
    "colab": {},
    "colab_type": "code",
    "id": "1npNzInHWZln"
   },
   "outputs": [],
   "source": [
    "def build_similarity_matrix(sentences, stop_words):\n",
    "    # Create an empty similarity matrix\n",
    "    similarity_matrix = np.zeros((len(sentences), len(sentences)))\n",
    "    for idx1 in range(len(sentences)):\n",
    "        for idx2 in range(len(sentences)):\n",
    "            if idx1 == idx2: #ignore if both are same sentences\n",
    "                continue \n",
    "            similarity_matrix[idx1][idx2] = sentence_similarity(sentences[idx1], sentences[idx2], stop_words)\n",
    "\n",
    "    return similarity_matrix\n"
   ]
  },
  {
   "cell_type": "markdown",
   "metadata": {
    "colab_type": "text",
    "id": "3L_TMySKdky9"
   },
   "source": [
    "## Generate Summary Method"
   ]
  },
  {
   "cell_type": "code",
   "execution_count": 121,
   "metadata": {
    "ExecuteTime": {
     "end_time": "2019-10-24T08:29:30.456865Z",
     "start_time": "2019-10-24T08:29:30.444807Z"
    },
    "colab": {},
    "colab_type": "code",
    "id": "rtQwhqAsWFS4"
   },
   "outputs": [],
   "source": [
    "def generate_summary(file_name, top_n=5):\n",
    "    stop_words = read_data(filename='korean_stopwords_list.txt')\n",
    "\n",
    "    summarize_text = []\n",
    "\n",
    "    # Step 1 - Read text anc split it\n",
    "    sentences =  read_article(file_name)\n",
    "#     sentences = p.main(file_name)\n",
    "\n",
    "    # Step 2 - Generate Similary Martix across sentences\n",
    "    sentence_similarity_martix = build_similarity_matrix(sentences, stop_words)\n",
    "\n",
    "    # Step 3 - Rank sentences in similarity martix\n",
    "    sentence_similarity_graph = nx.from_numpy_array(sentence_similarity_martix)\n",
    "    scores = nx.pagerank(sentence_similarity_graph)\n",
    "\n",
    "    # Step 4 - Sort the rank and pick top sentences\n",
    "    ranked_sentence = sorted(((scores[i],s) for i,s in enumerate(sentences)), reverse=True)    \n",
    "    print(\"\\nIndexes of top ranked_sentence order are \\n\", ranked_sentence)    \n",
    "\n",
    "    for i in range(top_n):\n",
    "        summarize_text.append(\" \".join(ranked_sentence[i][1]))\n",
    "\n",
    "    # Step 5 - Offcourse, output the summarize texr\n",
    "    print(\"\\nSummarize Text: \\n\", \". \".join(summarize_text))\n",
    " "
   ]
  },
  {
   "cell_type": "markdown",
   "metadata": {
    "colab_type": "text",
    "id": "d9ja_-k4fJ5V"
   },
   "source": [
    "## Result"
   ]
  },
  {
   "cell_type": "code",
   "execution_count": 123,
   "metadata": {
    "ExecuteTime": {
     "end_time": "2019-10-24T08:29:46.271591Z",
     "start_time": "2019-10-24T08:29:46.221777Z"
    },
    "colab": {
     "base_uri": "https://localhost:8080/",
     "height": 361
    },
    "colab_type": "code",
    "id": "UQW7oAI0d3zC",
    "outputId": "2eb25636-3df2-4cda-c18f-c602f15702f8",
    "scrolled": false
   },
   "outputs": [
    {
     "name": "stdout",
     "output_type": "stream",
     "text": [
      "article:  ['\"써머스플랫폼이 운영하는 가격비교 사이트 \\'에누리 가격비교\\'가 가구 교체 시즌에 맞춰 오는 28일까지 2개의 가구 할인 기획전을 진행한다', '우선 11번가와 함께 새학기를 맞아 학생가구를 찾는 고객들을 위한 ‘새학기 가구 추가할인 기획전’을 진행한다', '에누리 가격비교 홈페이지를 통해 11번가에서 서재/사무용 가구, 유아동 가구 등을 구매할 시 최대 2만 원의 추가 할인 혜택을 받을 수 있다', '/ 에누리닷컴 제공 @머니S MNB, 식품 외식 유통 · 프랜차이즈 가맹 & 유망 창업 아이템의 모든 것또한 28일까지 위메프와 함께 해외 유명 가구 브랜드를 대상으로 ‘해외직구 홈&리빙 페어’도 진행한다', '에누리 가격비교 홈페이지를 통해 위메프에서 씰리(Sealy), 랠리(Rally) 등 해외직구 인기 침구 및 가구, 인테리어 제품을 구매할 시 기획전 전 품목을 대상으로 최대 20만 원의 즉시 할인 혜택을 제공한다', '에누리 관계자는 “새학기, 봄맞이 등 가구교체 시즌에 맞춰 고객들이 부담 없는 가격에 가구를 장만할 수 있는 기획전을 마련했다”라며, “앞으로도 최저가 쇼핑정보와 함께 고객만족을 위한 실질적인 혜택을 제공할 수 있도록 최선을 다할 것이다”라고 말했다', '보다 자세한 내용은 에누리 가격비교 사이트와 모바일 앱, 웹에서 확인할 수 있다', '강동완 기자 ▶ 고수들의 재테크 비법 ▶ 박학다식 \\'이건희칼럼\\' <저작권자 ⓒ \\'성공을 꿈꾸는 사람들의 경제 뉴스\\' 머니S, 무단전재 및 재배포 금지>\"\\n']\n",
      "\n",
      "Indexes of top ranked_sentence order are \n",
      " [(0.1841369196008701, ['에누리', '가격비교', '홈페이지를', '통해', '번가에서', '서재사무용', '가구', '유아동', '가구', '등을', '구매할', '시', '최대', '만', '원의', '추가', '할인', '혜택을', '받을', '수', '있다']), (0.16462874241009828, ['써머스플랫폼이', '운영하는', '가격비교', '사이트', '에누리', '가격비교가', '가구', '교체', '시즌에', '맞춰', '오는', '일까지', '개의', '가구', '할인', '기획전을', '진행한다']), (0.14861148707170668, ['에누리', '가격비교', '홈페이지를', '통해', '위메프에서', '씰리', '랠리', '등', '해외직구', '인기', '침구', '및', '가구', '인테리어', '제품을', '구매할', '시', '기획전', '전', '품목을', '대상으로', '최대', '만', '원의', '즉시', '할인', '혜택을', '제공한다']), (0.12829752402392008, ['', '에누리닷컴', '제공', '머니', '', '식품', '외식', '유통', '', '프랜차이즈', '가맹', '', '유망', '창업', '아이템의', '모든', '것또한', '일까지', '위메프와', '함께', '해외', '유명', '가구', '브랜드를', '대상으로', '해외직구', '홈리빙', '페어도', '진행한다']), (0.10666669734968356, ['에누리', '관계자는', '새학기', '봄맞이', '등', '가구교체', '시즌에', '맞춰', '고객들이', '부담', '없는', '가격에', '가구를', '장만할', '수', '있는', '기획전을', '마련했다라며', '앞으로도', '최저가', '쇼핑정보와', '함께', '고객만족을', '위한', '실질적인', '혜택을', '제공할', '수', '있도록', '최선을', '다할', '것이다라고', '말했다']), (0.1031142253082199, ['우선', '번가와', '함께', '새학기를', '맞아', '학생가구를', '찾는', '고객들을', '위한', '새학기', '가구', '추가할인', '기획전을', '진행한다']), (0.09088794385667885, ['보다', '자세한', '내용은', '에누리', '가격비교', '사이트와', '모바일', '앱', '웹에서', '확인할', '수', '있다']), (0.07365646037882248, ['강동완', '기자', '', '고수들의', '재테크', '비법', '', '박학다식', '이건희칼럼', '저작권자', '', '성공을', '꿈꾸는', '사람들의', '경제', '뉴스', '머니', '무단전재', '및', '재배포', '금지'])]\n",
      "\n",
      "Summarize Text: \n",
      " 에누리 가격비교 홈페이지를 통해 번가에서 서재사무용 가구 유아동 가구 등을 구매할 시 최대 만 원의 추가 할인 혜택을 받을 수 있다. 써머스플랫폼이 운영하는 가격비교 사이트 에누리 가격비교가 가구 교체 시즌에 맞춰 오는 일까지 개의 가구 할인 기획전을 진행한다\n"
     ]
    }
   ],
   "source": [
    "# let's begin\n",
    "generate_summary( \"korean_text.txt\", 2)"
   ]
  },
  {
   "cell_type": "code",
   "execution_count": 126,
   "metadata": {
    "ExecuteTime": {
     "end_time": "2019-10-24T08:34:59.815545Z",
     "start_time": "2019-10-24T08:34:59.642629Z"
    }
   },
   "outputs": [
    {
     "name": "stdout",
     "output_type": "stream",
     "text": [
      "article:  ['\"4일 선개통 이후 5일째 수령 못 받은 예약자 속출\"\"갤럭시S10 취소하고 G8 갈아타겠다\"\"는 소비자도 나와삼성전자 모델별 수요 예측 실패…일부 채널 자급제 물량 줄이기도[아시아경제 임온유 기자] 삼성전자 상반기 전략 스마트폰 \\'갤럭시S10\\'이 8일 공식 출시됐다', ' 이 제품은 선개통일인 4일 전작보다 높은 성적을 받으며 흥행 기대감을 높이고 있다', ' 하지만 화이트 모델 쏠림 현상과 자급제 모델의 예상 밖 인기에 물량난이 여전한 상황이다', '이동통신ㆍ유통업계에 따르면 갤럭시S10 예약 구매자 일부가 재고 부족으로 개통 5일째 제품을 수령받지 못했다', ' 11번가에서 갤럭시S10 128GB 프리즘 화이트 자급제 모델을 구매한 A씨는 \"\"갤럭시S8를 산 지 2년이 채 안 됐지만 사은품인 갤럭시버즈가 갖고 싶어 갤럭시S10을 예약했다\"\"며 \"\"그런데 며칟날 받을지조차 공지받지 못해 답답한 상황\"\"이라고 말했다', '물량난의 주요인은 전작 갤럭시S9을 뛰어넘는 인기이지만 삼성전자의 모델별 수요 예측 실패 역시 적잖은 영향을 미쳤다', ' 현재 갤럭시S10ㆍS10+ 128GB 프리즘 화이트의 품귀현상이 도드라진다', ' 삼성전자는 프리즘 화이트, 프리즘 블랙, 프리즘 그린의 물량을 고루 준비했지만 프리즘 화이트의 구매 비중이 압도적으로 높은 것이다', ' 한 이통사 관계자는 \"\"해당 모델은 온라인 사이트는 물론 오프라인 대리점에서도 구하기 쉽지 않은 상황\"\"이라고 말했다', '자급제 모델도 예상을 뛰어넘어 흥행하며 변수로 작용했다', ' 첫날 개통량 중 22%가 자급제 모델로 파악됐다', ' 갤럭시S9의 8%에 견줘 점유율이 단 1년 만에 3배 가까이 늘어났다', ' 한 온라인 유통채널 관계자는 \"\"이 같은 소비자 반응을 예상치 못하고 높은 가격을 고려해 갤럭시S10 자급제 물량을 갤럭시S9보다 더 적게 준비했다\"\"며 \"\"확보한 물량은 모두 소진한 상태\"\"라고 말했다', '품귀현상은 갤럭시S10의 희소성을 높이는 흥행요소가 될 수 있다', ' 그러나 자칫 초반 동력을 상실시키는 위험요소로도 작용할 수 있다', ' 한 인터넷 커뮤니티에서는 갤럭시S10을 취소하고 오는 22일 출시될 LG전자 G8를 예약하겠다는 소비자도 등장했다', ' 하이마트에서 갤럭시S10+ 자급제 모델을 구매한 B씨는 \"\"기약 없이 기다릴 바에 LG전자에 사용 중인 V20을 보상 판매하고 G8를 살 계획\"\"이라고 말했다', '임온유 기자 ioy@asiae', 'co', 'kr▶ 아시아경제 채널 추가하고 에어팟, 해외여행비 받자!▶ 재미와 신기 \\'과학을읽다\\' ▶ 꿀잼 \\'인기만화\\'<ⓒ경제를 보는 눈, 세계를 보는 창 아시아경제 무단전재 배포금지>\"\\n']\n",
      "\n",
      "Indexes of top ranked_sentence order are \n",
      " [(0.10644913001510448, ['']), (0.08894149266487643, ['', '현재', '갤럭시', '', '프리즘', '화이트의', '품귀현상이', '도드라진다']), (0.07363118267872122, ['임온유', '기자', '']), (0.07139489222177926, ['', '번가에서', '갤럭시', '', '프리즘', '화이트', '자급제', '모델을', '구매한', '씨는', '갤럭시를', '산', '지', '년이', '채', '안', '됐지만', '사은품인', '갤럭시버즈가', '갖고', '싶어', '갤럭시을', '예약했다며', '그런데', '며칟날', '받을지조차', '공지받지', '못해', '답답한', '상황이라고', '말했다']), (0.058484064159819105, ['', '첫날', '개통량', '중', '가', '자급제', '모델로', '파악됐다']), (0.05197701508415693, ['', '하이마트에서', '갤럭시', '자급제', '모델을', '구매한', '씨는', '기약', '없이', '기다릴', '바에', '전자에', '사용', '중인', '을', '보상', '판매하고', '를', '살', '계획이라고', '말했다']), (0.051967416462107216, ['', '그러나', '자칫', '초반', '동력을', '상실시키는', '위험요소로도', '작용할', '수', '있다']), (0.05192023113770627, ['', '한', '온라인', '유통채널', '관계자는', '이', '같은', '소비자', '반응을', '예상치', '못하고', '높은', '가격을', '고려해', '갤럭시', '자급제', '물량을', '갤럭시보다', '더', '적게', '준비했다며', '확보한', '물량은', '모두', '소진한', '상태라고', '말했다']), (0.05175783357209031, ['일', '선개통', '이후', '일째', '수령', '못', '받은', '예약자', '속출갤럭시', '취소하고', '', '갈아타겠다는', '소비자도', '나와삼성전자', '모델별', '수요', '예측', '실패일부', '채널', '자급제', '물량', '줄이기도아시아경제', '임온유', '기자', '삼성전자', '상반기', '전략', '스마트폰', '갤럭시이', '일', '공식', '출시됐다']), (0.05110622609330878, ['', '한', '인터넷', '커뮤니티에서는', '갤럭시을', '취소하고', '오는', '일', '출시될', '전자', '를', '예약하겠다는', '소비자도', '등장했다']), (0.05092840276292182, ['', '이', '제품은', '선개통일인', '일', '전작보다', '높은', '성적을', '받으며', '흥행', '기대감을', '높이고', '있다']), (0.05064441299093426, ['', '아시아경제', '채널', '추가하고', '에어팟', '해외여행비', '받자', '재미와', '신기', '과학을읽다', '', '꿀잼', '인기만화경제를', '보는', '눈', '세계를', '보는', '창', '아시아경제', '무단전재', '배포금지']), (0.0489136143902312, ['', '하지만', '화이트', '모델', '쏠림', '현상과', '자급제', '모델의', '예상', '밖', '인기에', '물량난이', '여전한', '상황이다']), (0.044663826887210746, ['', '갤럭시의', '에', '견줘', '점유율이', '단', '년', '만에', '배', '가까이', '늘어났다']), (0.04422134023062577, ['', '한', '이통사', '관계자는', '해당', '모델은', '온라인', '사이트는', '물론', '오프라인', '대리점에서도', '구하기', '쉽지', '않은', '상황이라고', '말했다']), (0.040907472227952955, ['', '삼성전자는', '프리즘', '화이트', '프리즘', '블랙', '프리즘', '그린의', '물량을', '고루', '준비했지만', '프리즘', '화이트의', '구매', '비중이', '압도적으로', '높은', '것이다']), (0.01858976309353859, ['자급제', '모델도', '예상을', '뛰어넘어', '흥행하며', '변수로', '작용했다']), (0.01678416734186176, ['품귀현상은', '갤럭시의', '희소성을', '높이는', '흥행요소가', '될', '수', '있다']), (0.013754488512776431, ['이동통신유통업계에', '따르면', '갤럭시', '예약', '구매자', '일부가', '재고', '부족으로', '개통', '일째', '제품을', '수령받지', '못했다']), (0.012963027472276475, ['물량난의', '주요인은', '전작', '갤럭시을', '뛰어넘는', '인기이지만', '삼성전자의', '모델별', '수요', '예측', '실패', '역시', '적잖은', '영향을', '미쳤다'])]\n",
      "\n",
      "Summarize Text: \n",
      " .  현재 갤럭시  프리즘 화이트의 품귀현상이 도드라진다\n"
     ]
    }
   ],
   "source": [
    "# let's begin\n",
    "generate_summary( \"korean_text2.txt\", 2)"
   ]
  },
  {
   "cell_type": "code",
   "execution_count": 127,
   "metadata": {
    "ExecuteTime": {
     "end_time": "2019-10-24T08:35:07.095516Z",
     "start_time": "2019-10-24T08:35:07.028484Z"
    }
   },
   "outputs": [
    {
     "name": "stdout",
     "output_type": "stream",
     "text": [
      "article:  ['\"공급과잉으로 폐기 위기…쇼핑몰과 협력, 판매 지원[아이뉴스24 도민선 기자] 우체국이 공급과잉으로 실의에 빠진 배추 재배 농가 돕기에 나선다', '15일 과학기술정보통신부 우정사업본부(본부장 강성주)는 우체국쇼핑몰을 비롯해 G마켓, 옥션, 티몬 등 외부 쇼핑몰과 협업해 판로 개척에 나선다고 발표했다', '우정사업본부 우체국전자상거래지원센터는 전남 해남군에서 공급과잉으로 배추를 산지 폐기하기로 결정했다는 소식을 듣고 전남도청, 해남군청과 협업해 위기에 빠진 해남 농민들을 돕기로 했다', '지난해 8월에도 산지폐기를 앞둔 강원도 화천군 애호박을 우체국쇼핑 등 외부 쇼핑몰과 협력해 1만5천박스(120톤)을 판매하는 등 지역농가를 적극 지원했다', ' [[출처=우체국쇼핑]]전남 해남 배추는 우체국쇼핑몰을 비롯해 G마켓, 옥션, 티몬 등을 통해 10㎏ 1상자(3포기)를 온라인 최저가인 균일가 6천900원에 판매된다', ' 11번가 등과도 협의를 진행해 농가를 지원할 예정이다', '우정사업본부는 해남군청과 협력을 통한 판매지원으로 산지폐기 위기에 처한 농가들은 손실을 보전할 것으로 기대하고 있다', '강성주 본부장은 \"\"이번 해남 농가 지원이 우체국의 공익적 역할을 더욱 강화하는 계기가 되기를 바란다\"\"며, \"\"앞으로 우체국네트워크를 활용해 전국 어느 곳이든 도움의 손길이 필요한 이웃을 찾아 적극 지원하겠다\"\"고 말했다', '도민선기자 domingo@inews24', \"com▶네이버 채널에서 '아이뉴스24'를 구독해주세요\", '▶아이뉴스TV에서 부동산 고수를 만나보세요', '[ⓒ 아이뉴스24 무단전재 및 재배포 금지]\"\\n']\n",
      "\n",
      "Indexes of top ranked_sentence order are \n",
      " [(0.17772319027892688, ['', '출처우체국쇼핑전남', '해남', '배추는', '우체국쇼핑몰을', '비롯해', '마켓', '옥션', '티몬', '등을', '통해', '', '상자포기를', '온라인', '최저가인', '균일가', '천원에', '판매된다']), (0.1373758445338878, ['도민선기자', '']), (0.12288105021530815, ['우정사업본부', '우체국전자상거래지원센터는', '전남', '해남군에서', '공급과잉으로', '배추를', '산지', '폐기하기로', '결정했다는', '소식을', '듣고', '전남도청', '해남군청과', '협업해', '위기에', '빠진', '해남', '농민들을', '돕기로', '했다']), (0.11397544779521818, ['일', '과학기술정보통신부', '우정사업본부본부장', '강성주는', '우체국쇼핑몰을', '비롯해', '마켓', '옥션', '티몬', '등', '외부', '쇼핑몰과', '협업해', '판로', '개척에', '나선다고', '발표했다']), (0.10153244899869696, ['', '아이뉴스', '무단전재', '및', '재배포', '금지']), (0.09235423605352101, ['', '번가', '등과도', '협의를', '진행해', '농가를', '지원할', '예정이다']), (0.06434273599752746, ['지난해', '월에도', '산지폐기를', '앞둔', '강원도', '화천군', '애호박을', '우체국쇼핑', '등', '외부', '쇼핑몰과', '협력해', '만천박스톤을', '판매하는', '등', '지역농가를', '적극', '지원했다']), (0.0641596447676874, ['공급과잉으로', '폐기', '위기쇼핑몰과', '협력', '판매', '지원아이뉴스', '도민선', '기자', '우체국이', '공급과잉으로', '실의에', '빠진', '배추', '재배', '농가', '돕기에', '나선다']), (0.05223486859166795, ['강성주', '본부장은', '이번', '해남', '농가', '지원이', '우체국의', '공익적', '역할을', '더욱', '강화하는', '계기가', '되기를', '바란다며', '앞으로', '우체국네트워크를', '활용해', '전국', '어느', '곳이든', '도움의', '손길이', '필요한', '이웃을', '찾아', '적극', '지원하겠다고', '말했다']), (0.04429431917532514, ['우정사업본부는', '해남군청과', '협력을', '통한', '판매지원으로', '산지폐기', '위기에', '처한', '농가들은', '손실을', '보전할', '것으로', '기대하고', '있다']), (0.014563106796116505, ['아이뉴스에서', '부동산', '고수를', '만나보세요']), (0.014563106796116505, ['네이버', '채널에서', '아이뉴스를', '구독해주세요'])]\n",
      "\n",
      "Summarize Text: \n",
      "  출처우체국쇼핑전남 해남 배추는 우체국쇼핑몰을 비롯해 마켓 옥션 티몬 등을 통해  상자포기를 온라인 최저가인 균일가 천원에 판매된다. 도민선기자 \n"
     ]
    }
   ],
   "source": [
    "# let's begin\n",
    "generate_summary( \"korean_text3.txt\", 2)"
   ]
  },
  {
   "cell_type": "code",
   "execution_count": 128,
   "metadata": {
    "ExecuteTime": {
     "end_time": "2019-10-24T08:35:37.554713Z",
     "start_time": "2019-10-24T08:35:37.467143Z"
    }
   },
   "outputs": [
    {
     "name": "stdout",
     "output_type": "stream",
     "text": [
      "article:  ['\"이베스트투자증권, 투자의견 \\'매수\\'·목표주가  33만원 제시…20일 종가 26만원[아시아경제 금보령 기자] 이베스트투자증권은 SK텔레콤에 대해 T서비스가 홈라이프, 근무환경 등을 아우른다며 투자의견 \\'매수\\', 목표주가  33만원을 제시했다', ' 20일 종가는 26만원이다', '21일 김현용 이베스트투자증권 연구원에 따르면 SK텔레콤은 분기 매출증가에도 영업손실이 줄어들어 체질 개선에 성공했다', '보안사업이 이익에 기여한 것으로 분석됐다', ' 김 연구원은 \"\"전사 영업이익 측면에서 올해는 유무선이 플랫한 수준에서 상쇄되고, 한 해 전체가 첫 반영되는 보안사업이 연간 1200억원 내외 증익 요인\"\"이라며 \"\"기존 비즈니스와의 결합상품의 출시 및 무인 주차장 등 신규사업 전개로 성장성 확보할 것\"\"이라고 설명했다', '2분기 중에 옥수수xPOOQ 통합법인 출범이 예상된다', ' 투자자 유치와 조달자금의 콘텐츠 집중투자를 수반할 수 있을 것으로 보인다', ' 김 연구원은 \"\"현재 웹드라마와 K-POP 아티스트 관련 콘텐츠로 제한적인 오리지널 콘텐츠의 전폭적인 확대를 예상한다\"\"며 \"\"지난해 말부터 라인업 개선세가 돋보이는 지상파와의 연합전선 구축을 통해 의미 있는 드라마 공급주체로 부각이 가능할 전망\"\"이라고 말했다', 'T서비스는 홈라이프, 근무환경, 출퇴근까지 아우른다', ' 홈라이프에는 모바일, IPTV, AI Speaker(누구), 음원플랫폼(플로), 콘텐츠플랫폼(옥수수), 쇼핑(11번가, 오케이캐쉬백, 시럽) 등이 있고, 출퇴근 및 근무환경에는 ADT캡스, T맵 & T맵 택시, 무인주차장 등이 있다', '금보령 기자 gold@asiae', 'co', 'kr▶ 아시아경제 채널 추가하고 에어팟, 해외여행비 받자!▶ 재미와 신기 \\'과학을읽다\\' ▶ 꿀잼 \\'인기만화\\'<ⓒ경제를 보는 눈, 세계를 보는 창 아시아경제 무단전재 배포금지>\"\\n']\n",
      "\n",
      "Indexes of top ranked_sentence order are \n",
      " [(0.1596633574805209, ['']), (0.11730756415603982, ['금보령', '기자', '']), (0.11587108358296767, ['', '홈라이프에는', '모바일', '', '', '누구', '음원플랫폼플로', '콘텐츠플랫폼옥수수', '쇼핑번가', '오케이캐쉬백', '시럽', '등이', '있고', '출퇴근', '및', '근무환경에는', '캡스', '맵', '', '맵', '택시', '무인주차장', '등이', '있다']), (0.11072679811996938, ['', '일', '종가는', '만원이다']), (0.10828507087417376, ['이베스트투자증권', '투자의견', '매수목표주가', '', '만원', '제시일', '종가', '만원아시아경제', '금보령', '기자', '이베스트투자증권은', '텔레콤에', '대해', '서비스가', '홈라이프', '근무환경', '등을', '아우른다며', '투자의견', '매수', '목표주가', '', '만원을', '제시했다']), (0.07792042937815365, ['', '아시아경제', '채널', '추가하고', '에어팟', '해외여행비', '받자', '재미와', '신기', '과학을읽다', '', '꿀잼', '인기만화경제를', '보는', '눈', '세계를', '보는', '창', '아시아경제', '무단전재', '배포금지']), (0.07628220787040711, ['', '투자자', '유치와', '조달자금의', '콘텐츠', '집중투자를', '수반할', '수', '있을', '것으로', '보인다']), (0.07424250977098801, ['', '김', '연구원은', '현재', '웹드라마와', '', '아티스트', '관련', '콘텐츠로', '제한적인', '오리지널', '콘텐츠의', '전폭적인', '확대를', '예상한다며', '지난해', '말부터', '라인업', '개선세가', '돋보이는', '지상파와의', '연합전선', '구축을', '통해', '의미', '있는', '드라마', '공급주체로', '부각이', '가능할', '전망이라고', '말했다']), (0.05198453342307526, ['', '김', '연구원은', '전사', '영업이익', '측면에서', '올해는', '유무선이', '플랫한', '수준에서', '상쇄되고', '한', '해', '전체가', '첫', '반영되는', '보안사업이', '연간', '억원', '내외', '증익', '요인이라며', '기존', '비즈니스와의', '결합상품의', '출시', '및', '무인', '주차장', '등', '신규사업', '전개로', '성장성', '확보할', '것이라고', '설명했다']), (0.041429356789043185, ['일', '김현용', '이베스트투자증권', '연구원에', '따르면', '텔레콤은', '분기', '매출증가에도', '영업손실이', '줄어들어', '체질', '개선에', '성공했다']), (0.024642623891876, ['분기', '중에', '옥수수', '통합법인', '출범이', '예상된다']), (0.021985839023961944, ['보안사업이', '이익에', '기여한', '것으로', '분석됐다']), (0.019658625638823278, ['서비스는', '홈라이프', '근무환경', '출퇴근까지', '아우른다'])]\n",
      "\n",
      "Summarize Text: \n",
      " . 금보령 기자 \n"
     ]
    }
   ],
   "source": [
    "# let's begin\n",
    "generate_summary( \"korean_text4.txt\", 2)"
   ]
  },
  {
   "cell_type": "markdown",
   "metadata": {
    "colab_type": "text",
    "id": "M4ZQb48njNhN"
   },
   "source": [
    "# 전체 script"
   ]
  },
  {
   "cell_type": "code",
   "execution_count": 140,
   "metadata": {
    "ExecuteTime": {
     "end_time": "2019-10-24T11:51:28.494117Z",
     "start_time": "2019-10-24T11:51:28.422647Z"
    },
    "colab": {},
    "colab_type": "code",
    "id": "2JuHoTURjQSm",
    "scrolled": false
   },
   "outputs": [
    {
     "name": "stdout",
     "output_type": "stream",
     "text": [
      "article:  ['\"써머스플랫폼이 운영하는 가격비교 사이트 \\'에누리 가격비교\\'가 가구 교체 시즌에 맞춰 오는 28일까지 2개의 가구 할인 기획전을 진행한다', '우선 11번가와 함께 새학기를 맞아 학생가구를 찾는 고객들을 위한 ‘새학기 가구 추가할인 기획전’을 진행한다', '에누리 가격비교 홈페이지를 통해 11번가에서 서재/사무용 가구, 유아동 가구 등을 구매할 시 최대 2만 원의 추가 할인 혜택을 받을 수 있다', '/ 에누리닷컴 제공 @머니S MNB, 식품 외식 유통 · 프랜차이즈 가맹 & 유망 창업 아이템의 모든 것또한 28일까지 위메프와 함께 해외 유명 가구 브랜드를 대상으로 ‘해외직구 홈&리빙 페어’도 진행한다', '에누리 가격비교 홈페이지를 통해 위메프에서 씰리(Sealy), 랠리(Rally) 등 해외직구 인기 침구 및 가구, 인테리어 제품을 구매할 시 기획전 전 품목을 대상으로 최대 20만 원의 즉시 할인 혜택을 제공한다', '에누리 관계자는 “새학기, 봄맞이 등 가구교체 시즌에 맞춰 고객들이 부담 없는 가격에 가구를 장만할 수 있는 기획전을 마련했다”라며, “앞으로도 최저가 쇼핑정보와 함께 고객만족을 위한 실질적인 혜택을 제공할 수 있도록 최선을 다할 것이다”라고 말했다', '보다 자세한 내용은 에누리 가격비교 사이트와 모바일 앱, 웹에서 확인할 수 있다', '강동완 기자 ▶ 고수들의 재테크 비법 ▶ 박학다식 \\'이건희칼럼\\' <저작권자 ⓒ \\'성공을 꿈꾸는 사람들의 경제 뉴스\\' 머니S, 무단전재 및 재배포 금지>\"\\n']\n",
      "\n",
      "Indexes of top ranked_sentence order are \n",
      " [(0.1841369196008701, ['에누리', '가격비교', '홈페이지를', '통해', '번가에서', '서재사무용', '가구', '유아동', '가구', '등을', '구매할', '시', '최대', '만', '원의', '추가', '할인', '혜택을', '받을', '수', '있다']), (0.16462874241009828, ['써머스플랫폼이', '운영하는', '가격비교', '사이트', '에누리', '가격비교가', '가구', '교체', '시즌에', '맞춰', '오는', '일까지', '개의', '가구', '할인', '기획전을', '진행한다']), (0.14861148707170668, ['에누리', '가격비교', '홈페이지를', '통해', '위메프에서', '씰리', '랠리', '등', '해외직구', '인기', '침구', '및', '가구', '인테리어', '제품을', '구매할', '시', '기획전', '전', '품목을', '대상으로', '최대', '만', '원의', '즉시', '할인', '혜택을', '제공한다']), (0.12829752402392008, ['', '에누리닷컴', '제공', '머니', '', '식품', '외식', '유통', '', '프랜차이즈', '가맹', '', '유망', '창업', '아이템의', '모든', '것또한', '일까지', '위메프와', '함께', '해외', '유명', '가구', '브랜드를', '대상으로', '해외직구', '홈리빙', '페어도', '진행한다']), (0.10666669734968356, ['에누리', '관계자는', '새학기', '봄맞이', '등', '가구교체', '시즌에', '맞춰', '고객들이', '부담', '없는', '가격에', '가구를', '장만할', '수', '있는', '기획전을', '마련했다라며', '앞으로도', '최저가', '쇼핑정보와', '함께', '고객만족을', '위한', '실질적인', '혜택을', '제공할', '수', '있도록', '최선을', '다할', '것이다라고', '말했다']), (0.1031142253082199, ['우선', '번가와', '함께', '새학기를', '맞아', '학생가구를', '찾는', '고객들을', '위한', '새학기', '가구', '추가할인', '기획전을', '진행한다']), (0.09088794385667885, ['보다', '자세한', '내용은', '에누리', '가격비교', '사이트와', '모바일', '앱', '웹에서', '확인할', '수', '있다']), (0.07365646037882248, ['강동완', '기자', '', '고수들의', '재테크', '비법', '', '박학다식', '이건희칼럼', '저작권자', '', '성공을', '꿈꾸는', '사람들의', '경제', '뉴스', '머니', '무단전재', '및', '재배포', '금지'])]\n",
      "\n",
      "Summarize Text: \n",
      " 에누리 가격비교 홈페이지를 통해 번가에서 서재사무용 가구 유아동 가구 등을 구매할 시 최대 만 원의 추가 할인 혜택을 받을 수 있다. 써머스플랫폼이 운영하는 가격비교 사이트 에누리 가격비교가 가구 교체 시즌에 맞춰 오는 일까지 개의 가구 할인 기획전을 진행한다\n"
     ]
    }
   ],
   "source": [
    "#!/usr/bin/env python\n",
    "# coding: utf-8\n",
    "import nltk\n",
    "from nltk.corpus import stopwords\n",
    "from nltk.cluster.util import cosine_distance\n",
    "import numpy as np\n",
    "import networkx as nx\n",
    "import re\n",
    "\n",
    "def read_data(filename, encoding='utf-8'):\n",
    "    # stop_word_list.txt를 부르기 위해서 사용\n",
    "    # text 파일을 한줄씩 \\n(줄바꿈)을 기준으로 읽는다.\n",
    "    with open(filename, 'r', encoding=encoding) as f:\n",
    "        data = [line.split('\\t') for line in f.read().splitlines()]\n",
    "        return data\n",
    "\n",
    "def read_article(file_name,encoding='utf-8'):\n",
    "    file = open(file_name, \"r\",encoding=encoding)\n",
    "    filedata = file.readlines()\n",
    "    article = filedata[0].split(\".\")\n",
    "    sentences = []\n",
    "    removed = []\n",
    "    print(\"article: \",article)\n",
    "    for sentence in article:\n",
    "    #         print(\"sentence:\",sentence)\n",
    "        hangul = re.compile('[^ㄱ-ㅣ 가-힣]+') # 정교화 필요\n",
    "        sentences.append(hangul.sub('',sentence).split(\" \"))\n",
    "        removed.append(hangul.findall(sentence)) #제거된 단어들 확인 필요 시 return에 추가\n",
    "\n",
    "    return sentences\n",
    "\n",
    "def sentence_similarity(sent1, sent2, stopwords=None):\n",
    "    if stopwords is None:\n",
    "        stopwords = []\n",
    " \n",
    "    sent1 = [w.lower() for w in sent1]\n",
    "    sent2 = [w.lower() for w in sent2]\n",
    " \n",
    "    all_words = list(set(sent1 + sent2))\n",
    " \n",
    "    vector1 = [0] * len(all_words)\n",
    "    vector2 = [0] * len(all_words)\n",
    " \n",
    "    # build the vector for the first sentence\n",
    "    for w in sent1:\n",
    "        if w in stopwords:\n",
    "            continue\n",
    "        vector1[all_words.index(w)] += 1\n",
    " \n",
    "    # build the vector for the second sentence\n",
    "    for w in sent2:\n",
    "        if w in stopwords:\n",
    "            continue\n",
    "        vector2[all_words.index(w)] += 1\n",
    " \n",
    "    return 1 - cosine_distance(vector1, vector2)\n",
    " \n",
    "def build_similarity_matrix(sentences, stop_words):\n",
    "    # Create an empty similarity matrix\n",
    "    similarity_matrix = np.zeros((len(sentences), len(sentences)))\n",
    " \n",
    "    for idx1 in range(len(sentences)):\n",
    "        for idx2 in range(len(sentences)):\n",
    "            if idx1 == idx2: #ignore if both are same sentences\n",
    "                continue \n",
    "            similarity_matrix[idx1][idx2] = sentence_similarity(sentences[idx1], sentences[idx2], stop_words)\n",
    "\n",
    "    return similarity_matrix\n",
    "\n",
    "\n",
    "def generate_summary(file_name, top_n=5):\n",
    "    stop_words = read_data(filename='korean_stopwords_list.txt')\n",
    "\n",
    "    summarize_text = []\n",
    "\n",
    "    # Step 1 - Read text anc split it\n",
    "    sentences =  read_article(file_name)\n",
    "#     sentences = p.main(file_name)\n",
    "\n",
    "    # Step 2 - Generate Similary Martix across sentences\n",
    "    sentence_similarity_martix = build_similarity_matrix(sentences, stop_words)\n",
    "\n",
    "    # Step 3 - Rank sentences in similarity martix\n",
    "    sentence_similarity_graph = nx.from_numpy_array(sentence_similarity_martix)\n",
    "    scores = nx.pagerank(sentence_similarity_graph)\n",
    "    \n",
    "    # Step 4 - Sort the rank and pick top sentences\n",
    "    ranked_sentence = sorted(((scores[i],s) for i,s in enumerate(sentences)), reverse=True)    \n",
    "    print(\"\\nIndexes of top ranked_sentence order are \\n\", ranked_sentence)    \n",
    "\n",
    "    for i in range(top_n):\n",
    "        summarize_text.append(\" \".join(ranked_sentence[i][1]))\n",
    "\n",
    "    # Step 5 - Offcourse, output the summarize texr\n",
    "    print(\"\\nSummarize Text: \\n\", \". \".join(summarize_text))\n",
    " \n",
    "\n",
    "# let's begin\n",
    "generate_summary( \"korean_text.txt\", 2)"
   ]
  },
  {
   "cell_type": "markdown",
   "metadata": {},
   "source": [
    "# Feedback"
   ]
  },
  {
   "cell_type": "markdown",
   "metadata": {},
   "source": [
    "- cosine similarity를 구하기 위해서 문장을 vector화 할 때 현재는 stop word에 대한 정보만 제거 후 개별 단어들 모두가 포함되는 형식\n",
    "\n",
    "    => 명사 등 주요한 품사에 대해서만 vector를 형성하는 방안이 더 요약 결과를 정교화시킬 수 있을 것으로 예상 \n",
    "    \n",
    "- 긴 문장에 대해서는 여러 단어가 존재할 가능성이 높아지기에 다른 문장들과 similarity가 높다고 나올 가능성이 높다.\n",
    "    \n",
    "    => brevity(간결성)에 대한 penalty를 줘서 단순히 긴 문장이 중요한 문장으로 선정되지 않도록 조절 필요"
   ]
  }
 ],
 "metadata": {
  "colab": {
   "collapsed_sections": [],
   "name": "edubey/text-summarizer.ipynb",
   "provenance": []
  },
  "hide_input": false,
  "kernelspec": {
   "display_name": "Python 3",
   "language": "python",
   "name": "python3"
  },
  "language_info": {
   "codemirror_mode": {
    "name": "ipython",
    "version": 3
   },
   "file_extension": ".py",
   "mimetype": "text/x-python",
   "name": "python",
   "nbconvert_exporter": "python",
   "pygments_lexer": "ipython3",
   "version": "3.7.3"
  },
  "toc": {
   "base_numbering": 1,
   "nav_menu": {},
   "number_sections": true,
   "sideBar": true,
   "skip_h1_title": false,
   "title_cell": "Table of Contents",
   "title_sidebar": "Contents",
   "toc_cell": false,
   "toc_position": {},
   "toc_section_display": true,
   "toc_window_display": false
  },
  "varInspector": {
   "cols": {
    "lenName": 16,
    "lenType": 16,
    "lenVar": 40
   },
   "kernels_config": {
    "python": {
     "delete_cmd_postfix": "",
     "delete_cmd_prefix": "del ",
     "library": "var_list.py",
     "varRefreshCmd": "print(var_dic_list())"
    },
    "r": {
     "delete_cmd_postfix": ") ",
     "delete_cmd_prefix": "rm(",
     "library": "var_list.r",
     "varRefreshCmd": "cat(var_dic_list()) "
    }
   },
   "types_to_exclude": [
    "module",
    "function",
    "builtin_function_or_method",
    "instance",
    "_Feature"
   ],
   "window_display": false
  }
 },
 "nbformat": 4,
 "nbformat_minor": 1
}
