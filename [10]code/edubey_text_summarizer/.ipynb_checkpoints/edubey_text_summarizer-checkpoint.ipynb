{
 "cells": [
  {
   "cell_type": "markdown",
   "metadata": {
    "colab_type": "text",
    "id": "1qwZWglKUJwY"
   },
   "source": [
    "# edubey / text-summarizer\n",
    "\n",
    "아래의 깃헙을 참고하여 test 하기 위한 파일입니다. 해당 알고리즘의 설명은 아래의 Medium 자료를 참고하여 작성 수정했습니다.\n",
    "\n",
    "- https://github.com/edubey/text-summarizer\n",
    "\n",
    "-  Medium 및 코드 설명\n",
    "\n",
    "> https://towardsdatascience.com/understand-text-summarization-and-create-your-own-summarizer-in-python-b26a9f09fc70"
   ]
  },
  {
   "cell_type": "markdown",
   "metadata": {
    "colab_type": "text",
    "id": "cTeEwTWfX2w-"
   },
   "source": [
    "### Description"
   ]
  },
  {
   "cell_type": "markdown",
   "metadata": {
    "colab_type": "text",
    "id": "zNsRVrV8XcFl"
   },
   "source": [
    "> <b>unsupervised learning 접근 방식</b>\n",
    "\n",
    "- single document의 문장들의 matrix를 구성해서 각 문장안에 들어가는 단어들을 이용한 vector를 형성한다. 비교할 두 문장의 vector의 cosine similarity를 기반으로 문장 유사도를 측정한다. 전체 문장에 대해서 다른 문장들과 유사도가 가장 높은 문장을 사용자 지정 Top-N개 선정하여 요약 결과로 제시한다.\n",
    "\n",
    "\n",
    "- 장점 : \n",
    "\n",
    "    실제 test 셋에 적용하기 위해서 사전에 오랜 시간 학습시키거나 모델을 형성할 필요가 없다.\n",
    "    \n",
    "    \n",
    "> <b>문장 유사도 측정 방식 : cosine similarity</b>\n",
    "\n",
    "- 설명 : 두 개의 non-zero vector들 간의 내적 공간에 대해서 cosine 각도를 계산해서 유사도를 측정하는 방식\n",
    "\n",
    "    https://ko.wikipedia.org/wiki/%EC%BD%94%EC%82%AC%EC%9D%B8_%EC%9C%A0%EC%82%AC%EB%8F%84\n",
    "\n",
    "> <b>Text Rank algorithm</b>\n",
    "\n",
    "- 설명: Graph-based ranking algorithm for NLP\n",
    "- 특징:\n",
    "    \n",
    "    이전의 training data에 의존하지 않고, 독립적인 text를 이용해서 적용 가능하다. \n",
    "\n",
    "> <b>Code Flow</b>\n",
    "\n",
    "<b> Input article → split into sentences → remove stop words → build a similarity matrix → generate rank based on matrix → pick top N sentences for summary.</b>"
   ]
  },
  {
   "cell_type": "markdown",
   "metadata": {
    "colab_type": "text",
    "id": "kGWPk9TpjDLC"
   },
   "source": [
    "## Git clone & Apply"
   ]
  },
  {
   "cell_type": "code",
   "execution_count": 1,
   "metadata": {
    "colab": {
     "base_uri": "https://localhost:8080/",
     "height": 89
    },
    "colab_type": "code",
    "id": "Ic-rigeMTyy8",
    "outputId": "ec5e6a7d-4b23-451f-c440-1cd16fd335a0"
   },
   "outputs": [
    {
     "name": "stdout",
     "output_type": "stream",
     "text": [
      "Cloning into 'text-summarizer'...\n",
      "remote: Enumerating objects: 16, done.\u001b[K\n",
      "remote: Total 16 (delta 0), reused 0 (delta 0), pack-reused 16\u001b[K\n",
      "Unpacking objects: 100% (16/16), done.\n"
     ]
    }
   ],
   "source": [
    "!git clone https://github.com/edubey/text-summarizer.git"
   ]
  },
  {
   "cell_type": "code",
   "execution_count": 4,
   "metadata": {
    "colab": {
     "base_uri": "https://localhost:8080/",
     "height": 35
    },
    "colab_type": "code",
    "id": "lnkPlYMgU9iT",
    "outputId": "fc785729-75e6-4b79-9de6-abbbcc8053cd"
   },
   "outputs": [
    {
     "name": "stdout",
     "output_type": "stream",
     "text": [
      "/content/text-summarizer\n"
     ]
    }
   ],
   "source": [
    "%cd text-summarizer"
   ]
  },
  {
   "cell_type": "code",
   "execution_count": 5,
   "metadata": {
    "colab": {
     "base_uri": "https://localhost:8080/",
     "height": 307
    },
    "colab_type": "code",
    "id": "TBcANWP1UkSC",
    "outputId": "f000d12e-7056-4049-d0db-f757c7d3e4b3"
   },
   "outputs": [
    {
     "name": "stdout",
     "output_type": "stream",
     "text": [
      "[nltk_data] Downloading package stopwords to /root/nltk_data...\n",
      "[nltk_data]   Unzipping corpora/stopwords.zip.\n",
      "In an attempt to build an AI-ready workforce, Microsoft announced Intelligent Cloud Hub which has been launched to empower the next generation of students with AI-ready skills\n",
      "Envisioned as a three-year collaborative program, Intelligent Cloud Hub will support around 100 institutions with AI infrastructure, course content and curriculum, developer support, development tools and give students access to cloud and AI services\n",
      "As part of the program, the Redmond giant which wants to expand its reach and is planning to build a strong developer ecosystem in India with the program will set up the core AI infrastructure and IoT Hub for the selected campuses\n",
      "The company will provide AI development tools and Azure AI services such as Microsoft Cognitive Services, Bot Services and Azure Machine Learning.According to Manish Prakash, Country General Manager-PS, Health and Education, Microsoft India, said, \"With AI being the defining technology of our time, it is transforming lives and industry and the jobs of tomorrow will require a different skillset\n",
      "This will require more collaborations and training and working with AI\n",
      "That’s why it has become more critical than ever for educational institutions to integrate new cloud and AI technologies\n",
      "The program is an attempt to ramp up the institutional set-up and build capabilities among the educators to educate the workforce of tomorrow.\" The program aims to build up the cognitive skills and in-depth understanding of developing intelligent cloud connected solutions for applications across industry\n",
      "Earlier in April this year, the company announced Microsoft Professional Program In AI as a learning track open to the public\n",
      "The program was developed to provide job ready skills to programmers who wanted to hone their skills in AI and data science with a series of online courses which featured hands-on labs and expert instructors as well\n",
      "This program also included developer-focused AI school that provided a bunch of assets to help build AI skills.\n",
      "Indexes of top ranked_sentence order are  [(0.15083257041122708, ['Envisioned', 'as', 'a', 'three-year', 'collaborative', 'program,', 'Intelligent', 'Cloud', 'Hub', 'will', 'support', 'around', '100', 'institutions', 'with', 'AI', 'infrastructure,', 'course', 'content', 'and', 'curriculum,', 'developer', 'support,', 'development', 'tools', 'and', 'give', 'students', 'access', 'to', 'cloud', 'and', 'AI', 'services']), (0.13161201335715553, ['The', 'company', 'will', 'provide', 'AI', 'development', 'tools', 'and', 'Azure', 'AI', 'services', 'such', 'as', 'Microsoft', 'Cognitive', 'Services,', 'Bot', 'Services', 'and', 'Azure', 'Machine', 'Learning.According', 'to', 'Manish', 'Prakash,', 'Country', 'General', 'Manager-PS,', 'Health', 'and', 'Education,', 'Microsoft', 'India,', 'said,', '\"With', 'AI', 'being', 'the', 'defining', 'technology', 'of', 'our', 'time,', 'it', 'is', 'transforming', 'lives', 'and', 'industry', 'and', 'the', 'jobs', 'of', 'tomorrow', 'will', 'require', 'a', 'different', 'skillset']), (0.11403047674961146, ['Earlier', 'in', 'April', 'this', 'year,', 'the', 'company', 'announced', 'Microsoft', 'Professional', 'Program', 'In', 'AI', 'as', 'a', 'learning', 'track', 'open', 'to', 'the', 'public']), (0.10721749759953528, ['In', 'an', 'attempt', 'to', 'build', 'an', 'AI-ready', 'workforce,', 'Microsoft', 'announced', 'Intelligent', 'Cloud', 'Hub', 'which', 'has', 'been', 'launched', 'to', 'empower', 'the', 'next', 'generation', 'of', 'students', 'with', 'AI-ready', 'skills']), (0.10404298514456578, ['As', 'part', 'of', 'the', 'program,', 'the', 'Redmond', 'giant', 'which', 'wants', 'to', 'expand', 'its', 'reach', 'and', 'is', 'planning', 'to', 'build', 'a', 'strong', 'developer', 'ecosystem', 'in', 'India', 'with', 'the', 'program', 'will', 'set', 'up', 'the', 'core', 'AI', 'infrastructure', 'and', 'IoT', 'Hub', 'for', 'the', 'selected', 'campuses']), (0.10031366655994461, ['That’s', 'why', 'it', 'has', 'become', 'more', 'critical', 'than', 'ever', 'for', 'educational', 'institutions', 'to', 'integrate', 'new', 'cloud', 'and', 'AI', 'technologies']), (0.10001137283486655, ['The', 'program', 'is', 'an', 'attempt', 'to', 'ramp', 'up', 'the', 'institutional', 'set-up', 'and', 'build', 'capabilities', 'among', 'the', 'educators', 'to', 'educate', 'the', 'workforce', 'of', 'tomorrow.\"', 'The', 'program', 'aims', 'to', 'build', 'up', 'the', 'cognitive', 'skills', 'and', 'in-depth', 'understanding', 'of', 'developing', 'intelligent', 'cloud', 'connected', 'solutions', 'for', 'applications', 'across', 'industry']), (0.09916750119894317, ['This', 'will', 'require', 'more', 'collaborations', 'and', 'training', 'and', 'working', 'with', 'AI']), (0.09277191614415067, ['The', 'program', 'was', 'developed', 'to', 'provide', 'job', 'ready', 'skills', 'to', 'programmers', 'who', 'wanted', 'to', 'hone', 'their', 'skills', 'in', 'AI', 'and', 'data', 'science', 'with', 'a', 'series', 'of', 'online', 'courses', 'which', 'featured', 'hands-on', 'labs', 'and', 'expert', 'instructors', 'as', 'well'])]\n",
      "Summarize Text: \n",
      " Envisioned as a three-year collaborative program, Intelligent Cloud Hub will support around 100 institutions with AI infrastructure, course content and curriculum, developer support, development tools and give students access to cloud and AI services. The company will provide AI development tools and Azure AI services such as Microsoft Cognitive Services, Bot Services and Azure Machine Learning.According to Manish Prakash, Country General Manager-PS, Health and Education, Microsoft India, said, \"With AI being the defining technology of our time, it is transforming lives and industry and the jobs of tomorrow will require a different skillset\n"
     ]
    }
   ],
   "source": [
    "!python text-summarizer.py"
   ]
  },
  {
   "cell_type": "markdown",
   "metadata": {
    "colab_type": "text",
    "id": "mA-uEXuBWDZo"
   },
   "source": [
    "# text-summarizer.py 코드 설명"
   ]
  },
  {
   "cell_type": "markdown",
   "metadata": {
    "colab_type": "text",
    "id": "5InwoYFZYdZl"
   },
   "source": [
    "##  import all necessary libraries\n"
   ]
  },
  {
   "cell_type": "code",
   "execution_count": 0,
   "metadata": {
    "colab": {},
    "colab_type": "code",
    "id": "hKz3ecPlWNlT"
   },
   "outputs": [],
   "source": [
    "import nltk\n",
    "from nltk.corpus import stopwords\n",
    "from nltk.cluster.util import cosine_distance\n",
    "import numpy as np\n",
    "import networkx as nx"
   ]
  },
  {
   "cell_type": "markdown",
   "metadata": {
    "colab_type": "text",
    "id": "qfmjQnHGYhVi"
   },
   "source": [
    "## Generate clean sentences"
   ]
  },
  {
   "cell_type": "code",
   "execution_count": 0,
   "metadata": {
    "colab": {},
    "colab_type": "code",
    "id": "Rf15SYvXYhk5"
   },
   "outputs": [],
   "source": [
    "def read_article(file_name):\n",
    "    file = open(file_name, \"r\")\n",
    "    filedata = file.readlines()\n",
    "    article = filedata[0].split(\". \")\n",
    "    sentences = []\n",
    "\n",
    "    for sentence in article:\n",
    "        print(sentence)\n",
    "        sentences.append(sentence.replace(\"[^a-zA-Z]\", \" \").split(\" \"))\n",
    "    \n",
    "    # sentence.pop() # 불필요한 문장으로 판단하여 제거\n",
    "    return sentences\n"
   ]
  },
  {
   "cell_type": "code",
   "execution_count": 0,
   "metadata": {
    "colab": {},
    "colab_type": "code",
    "id": "g_FvpMx0Y3aq"
   },
   "outputs": [],
   "source": [
    "# 중간 점검용\n",
    "read_article('trump.txt')"
   ]
  },
  {
   "cell_type": "markdown",
   "metadata": {
    "colab_type": "text",
    "id": "UKxwAASEboFq"
   },
   "source": [
    "## Similarity matrix"
   ]
  },
  {
   "cell_type": "code",
   "execution_count": 0,
   "metadata": {
    "colab": {},
    "colab_type": "code",
    "id": "2Mxz6dFXWQgY"
   },
   "outputs": [],
   "source": [
    "def sentence_similarity(sent1, sent2, stopwords=None):\n",
    "    if stopwords is None:\n",
    "        stopwords = []\n",
    "     \n",
    "    sent1 = [w.lower() for w in sent1]\n",
    "    sent2 = [w.lower() for w in sent2]\n",
    " \n",
    "    all_words = list(set(sent1 + sent2))\n",
    " \n",
    "    vector1 = [0] * len(all_words)\n",
    "    vector2 = [0] * len(all_words)\n",
    " \n",
    "    # build the vector for the first sentence\n",
    "    for w in sent1:\n",
    "        if w in stopwords:\n",
    "            continue\n",
    "        vector1[all_words.index(w)] += 1\n",
    " \n",
    "    # build the vector for the second sentence\n",
    "    for w in sent2:\n",
    "        if w in stopwords:\n",
    "            continue\n",
    "        vector2[all_words.index(w)] += 1\n",
    " \n",
    "    return 1 - cosine_distance(vector1, vector2)\n"
   ]
  },
  {
   "cell_type": "code",
   "execution_count": 0,
   "metadata": {
    "colab": {},
    "colab_type": "code",
    "id": "1npNzInHWZln"
   },
   "outputs": [],
   "source": [
    "def build_similarity_matrix(sentences, stop_words):\n",
    "    # Create an empty similarity matrix\n",
    "    similarity_matrix = np.zeros((len(sentences), len(sentences)))\n",
    " \n",
    "    for idx1 in range(len(sentences)):\n",
    "        for idx2 in range(len(sentences)):\n",
    "            if idx1 == idx2: #ignore if both are same sentences\n",
    "                continue \n",
    "            similarity_matrix[idx1][idx2] = sentence_similarity(sentences[idx1], sentences[idx2], stop_words)\n",
    "\n",
    "    return similarity_matrix\n",
    "\n"
   ]
  },
  {
   "cell_type": "markdown",
   "metadata": {
    "colab_type": "text",
    "id": "3L_TMySKdky9"
   },
   "source": [
    "## Generate Summary Method"
   ]
  },
  {
   "cell_type": "code",
   "execution_count": 0,
   "metadata": {
    "colab": {},
    "colab_type": "code",
    "id": "rtQwhqAsWFS4"
   },
   "outputs": [],
   "source": [
    "def generate_summary(file_name, top_n=5):\n",
    "    nltk.download(\"stopwords\")\n",
    "    stop_words = stopwords.words('english')\n",
    "    summarize_text = []\n",
    "\n",
    "    # Step 1 - Read text anc split it\n",
    "    sentences =  read_article(file_name)\n",
    "\n",
    "    # Step 2 - Generate Similary Martix across sentences\n",
    "    sentence_similarity_martix = build_similarity_matrix(sentences, stop_words)\n",
    "\n",
    "    # Step 3 - Rank sentences in similarity martix\n",
    "    sentence_similarity_graph = nx.from_numpy_array(sentence_similarity_martix)\n",
    "    scores = nx.pagerank(sentence_similarity_graph)\n",
    "\n",
    "    # Step 4 - Sort the rank and pick top sentences\n",
    "    ranked_sentence = sorted(((scores[i],s) for i,s in enumerate(sentences)), reverse=True)    \n",
    "    print(\"\\nIndexes of top ranked_sentence order are \\n\", ranked_sentence)    \n",
    "\n",
    "    for i in range(top_n):\n",
    "      summarize_text.append(\" \".join(ranked_sentence[i][1]))\n",
    "\n",
    "    # Step 5 - Offcourse, output the summarize texr\n",
    "    print(\"\\nSummarize Text: \\n\", \". \".join(summarize_text))\n",
    " "
   ]
  },
  {
   "cell_type": "markdown",
   "metadata": {
    "colab_type": "text",
    "id": "d9ja_-k4fJ5V"
   },
   "source": [
    "## Result"
   ]
  },
  {
   "cell_type": "code",
   "execution_count": 54,
   "metadata": {
    "colab": {
     "base_uri": "https://localhost:8080/",
     "height": 361
    },
    "colab_type": "code",
    "id": "UQW7oAI0d3zC",
    "outputId": "2eb25636-3df2-4cda-c18f-c602f15702f8"
   },
   "outputs": [
    {
     "name": "stdout",
     "output_type": "stream",
     "text": [
      "[nltk_data] Downloading package stopwords to /root/nltk_data...\n",
      "[nltk_data]   Package stopwords is already up-to-date!\n",
      "In an attempt to build an AI-ready workforce, Microsoft announced Intelligent Cloud Hub which has been launched to empower the next generation of students with AI-ready skills\n",
      "Envisioned as a three-year collaborative program, Intelligent Cloud Hub will support around 100 institutions with AI infrastructure, course content and curriculum, developer support, development tools and give students access to cloud and AI services\n",
      "As part of the program, the Redmond giant which wants to expand its reach and is planning to build a strong developer ecosystem in India with the program will set up the core AI infrastructure and IoT Hub for the selected campuses\n",
      "The company will provide AI development tools and Azure AI services such as Microsoft Cognitive Services, Bot Services and Azure Machine Learning.According to Manish Prakash, Country General Manager-PS, Health and Education, Microsoft India, said, \"With AI being the defining technology of our time, it is transforming lives and industry and the jobs of tomorrow will require a different skillset\n",
      "This will require more collaborations and training and working with AI\n",
      "That’s why it has become more critical than ever for educational institutions to integrate new cloud and AI technologies\n",
      "The program is an attempt to ramp up the institutional set-up and build capabilities among the educators to educate the workforce of tomorrow.\" The program aims to build up the cognitive skills and in-depth understanding of developing intelligent cloud connected solutions for applications across industry\n",
      "Earlier in April this year, the company announced Microsoft Professional Program In AI as a learning track open to the public\n",
      "The program was developed to provide job ready skills to programmers who wanted to hone their skills in AI and data science with a series of online courses which featured hands-on labs and expert instructors as well\n",
      "This program also included developer-focused AI school that provided a bunch of assets to help build AI skills.\n",
      "\n",
      "Indexes of top ranked_sentence order are \n",
      " [(0.13083383500129078, ['This', 'program', 'also', 'included', 'developer-focused', 'AI', 'school', 'that', 'provided', 'a', 'bunch', 'of', 'assets', 'to', 'help', 'build', 'AI', 'skills.']), (0.1262117608296295, ['Envisioned', 'as', 'a', 'three-year', 'collaborative', 'program,', 'Intelligent', 'Cloud', 'Hub', 'will', 'support', 'around', '100', 'institutions', 'with', 'AI', 'infrastructure,', 'course', 'content', 'and', 'curriculum,', 'developer', 'support,', 'development', 'tools', 'and', 'give', 'students', 'access', 'to', 'cloud', 'and', 'AI', 'services']), (0.11386767381829475, ['The', 'company', 'will', 'provide', 'AI', 'development', 'tools', 'and', 'Azure', 'AI', 'services', 'such', 'as', 'Microsoft', 'Cognitive', 'Services,', 'Bot', 'Services', 'and', 'Azure', 'Machine', 'Learning.According', 'to', 'Manish', 'Prakash,', 'Country', 'General', 'Manager-PS,', 'Health', 'and', 'Education,', 'Microsoft', 'India,', 'said,', '\"With', 'AI', 'being', 'the', 'defining', 'technology', 'of', 'our', 'time,', 'it', 'is', 'transforming', 'lives', 'and', 'industry', 'and', 'the', 'jobs', 'of', 'tomorrow', 'will', 'require', 'a', 'different', 'skillset']), (0.10100416115804903, ['Earlier', 'in', 'April', 'this', 'year,', 'the', 'company', 'announced', 'Microsoft', 'Professional', 'Program', 'In', 'AI', 'as', 'a', 'learning', 'track', 'open', 'to', 'the', 'public']), (0.09409890128802638, ['As', 'part', 'of', 'the', 'program,', 'the', 'Redmond', 'giant', 'which', 'wants', 'to', 'expand', 'its', 'reach', 'and', 'is', 'planning', 'to', 'build', 'a', 'strong', 'developer', 'ecosystem', 'in', 'India', 'with', 'the', 'program', 'will', 'set', 'up', 'the', 'core', 'AI', 'infrastructure', 'and', 'IoT', 'Hub', 'for', 'the', 'selected', 'campuses']), (0.09113734458448221, ['This', 'will', 'require', 'more', 'collaborations', 'and', 'training', 'and', 'working', 'with', 'AI']), (0.08899375984519096, ['The', 'program', 'is', 'an', 'attempt', 'to', 'ramp', 'up', 'the', 'institutional', 'set-up', 'and', 'build', 'capabilities', 'among', 'the', 'educators', 'to', 'educate', 'the', 'workforce', 'of', 'tomorrow.\"', 'The', 'program', 'aims', 'to', 'build', 'up', 'the', 'cognitive', 'skills', 'and', 'in-depth', 'understanding', 'of', 'developing', 'intelligent', 'cloud', 'connected', 'solutions', 'for', 'applications', 'across', 'industry']), (0.08689211093261075, ['That’s', 'why', 'it', 'has', 'become', 'more', 'critical', 'than', 'ever', 'for', 'educational', 'institutions', 'to', 'integrate', 'new', 'cloud', 'and', 'AI', 'technologies']), (0.08543021908426285, ['In', 'an', 'attempt', 'to', 'build', 'an', 'AI-ready', 'workforce,', 'Microsoft', 'announced', 'Intelligent', 'Cloud', 'Hub', 'which', 'has', 'been', 'launched', 'to', 'empower', 'the', 'next', 'generation', 'of', 'students', 'with', 'AI-ready', 'skills']), (0.08153023345816275, ['The', 'program', 'was', 'developed', 'to', 'provide', 'job', 'ready', 'skills', 'to', 'programmers', 'who', 'wanted', 'to', 'hone', 'their', 'skills', 'in', 'AI', 'and', 'data', 'science', 'with', 'a', 'series', 'of', 'online', 'courses', 'which', 'featured', 'hands-on', 'labs', 'and', 'expert', 'instructors', 'as', 'well'])]\n",
      "\n",
      "Summarize Text: \n",
      " This program also included developer-focused AI school that provided a bunch of assets to help build AI skills.. Envisioned as a three-year collaborative program, Intelligent Cloud Hub will support around 100 institutions with AI infrastructure, course content and curriculum, developer support, development tools and give students access to cloud and AI services\n"
     ]
    }
   ],
   "source": [
    "# let's begin\n",
    "generate_summary( \"msft.txt\", 2)"
   ]
  },
  {
   "cell_type": "code",
   "execution_count": 55,
   "metadata": {
    "colab": {
     "base_uri": "https://localhost:8080/",
     "height": 343
    },
    "colab_type": "code",
    "id": "5R-6TBJPeqzg",
    "outputId": "91785a87-28fb-403c-9742-8e7496918f6f"
   },
   "outputs": [
    {
     "name": "stdout",
     "output_type": "stream",
     "text": [
      "[nltk_data] Downloading package stopwords to /root/nltk_data...\n",
      "[nltk_data]   Package stopwords is already up-to-date!\n",
      "For years, Facebook gave some of the world's largest technology companies more intrusive access to users' personal data than it has disclosed, effectively exempting those business partners from its usual privacy rules, according to internal records and interviews\n",
      "The special arrangements are detailed in hundreds of pages of Facebook documents obtained by The New York Times\n",
      "The records, generated in 2017 by the company's internal system for tracking partnerships, provide the most complete picture yet of the social network's data-sharing practices\n",
      "They also underscore how personal data has become the most prized commodity of the digital age, traded on a vast scale by some of the most powerful companies in Silicon Valley and beyond\n",
      "The exchange was intended to benefit everyone\n",
      "Pushing for explosive growth, Facebook got more users, lifting its advertising revenue\n",
      "Partner companies acquired features to make their products more attractive\n",
      "Facebook users connected with friends across different devices and websites\n",
      "But Facebook also assumed extraordinary power over the personal information of its 2 billion users - control it has wielded with little transparency or outside oversight.Facebook allowed Microsoft's Bing search engine to see the names of virtually all Facebook user's friends without consent, the records show, and gave Netflix and Spotify the ability to read Facebook users' private messages.\n",
      "\n",
      "Indexes of top ranked_sentence order are \n",
      " [(0.21200309825589247, ['But', 'Facebook', 'also', 'assumed', 'extraordinary', 'power', 'over', 'the', 'personal', 'information', 'of', 'its', '2', 'billion', 'users', '-', 'control', 'it', 'has', 'wielded', 'with', 'little', 'transparency', 'or', 'outside', 'oversight.Facebook', 'allowed', \"Microsoft's\", 'Bing', 'search', 'engine', 'to', 'see', 'the', 'names', 'of', 'virtually', 'all', 'Facebook', \"user's\", 'friends', 'without', 'consent,', 'the', 'records', 'show,', 'and', 'gave', 'Netflix', 'and', 'Spotify', 'the', 'ability', 'to', 'read', 'Facebook', \"users'\", 'private', 'messages.']), (0.20229230825417396, ['For', 'years,', 'Facebook', 'gave', 'some', 'of', 'the', \"world's\", 'largest', 'technology', 'companies', 'more', 'intrusive', 'access', 'to', \"users'\", 'personal', 'data', 'than', 'it', 'has', 'disclosed,', 'effectively', 'exempting', 'those', 'business', 'partners', 'from', 'its', 'usual', 'privacy', 'rules,', 'according', 'to', 'internal', 'records', 'and', 'interviews']), (0.14559571968235174, ['Facebook', 'users', 'connected', 'with', 'friends', 'across', 'different', 'devices', 'and', 'websites']), (0.11745697212769604, ['Pushing', 'for', 'explosive', 'growth,', 'Facebook', 'got', 'more', 'users,', 'lifting', 'its', 'advertising', 'revenue']), (0.1099960402598943, ['The', 'special', 'arrangements', 'are', 'detailed', 'in', 'hundreds', 'of', 'pages', 'of', 'Facebook', 'documents', 'obtained', 'by', 'The', 'New', 'York', 'Times']), (0.1002348543938455, ['They', 'also', 'underscore', 'how', 'personal', 'data', 'has', 'become', 'the', 'most', 'prized', 'commodity', 'of', 'the', 'digital', 'age,', 'traded', 'on', 'a', 'vast', 'scale', 'by', 'some', 'of', 'the', 'most', 'powerful', 'companies', 'in', 'Silicon', 'Valley', 'and', 'beyond']), (0.0628363926665522, ['Partner', 'companies', 'acquired', 'features', 'to', 'make', 'their', 'products', 'more', 'attractive']), (0.031179706384133237, ['The', 'records,', 'generated', 'in', '2017', 'by', 'the', \"company's\", 'internal', 'system', 'for', 'tracking', 'partnerships,', 'provide', 'the', 'most', 'complete', 'picture', 'yet', 'of', 'the', 'social', \"network's\", 'data-sharing', 'practices']), (0.018404907975460544, ['The', 'exchange', 'was', 'intended', 'to', 'benefit', 'everyone'])]\n",
      "\n",
      "Summarize Text: \n",
      " But Facebook also assumed extraordinary power over the personal information of its 2 billion users - control it has wielded with little transparency or outside oversight.Facebook allowed Microsoft's Bing search engine to see the names of virtually all Facebook user's friends without consent, the records show, and gave Netflix and Spotify the ability to read Facebook users' private messages.. For years, Facebook gave some of the world's largest technology companies more intrusive access to users' personal data than it has disclosed, effectively exempting those business partners from its usual privacy rules, according to internal records and interviews\n"
     ]
    }
   ],
   "source": [
    "generate_summary( \"fb.txt\", 2)"
   ]
  },
  {
   "cell_type": "code",
   "execution_count": 56,
   "metadata": {
    "colab": {
     "base_uri": "https://localhost:8080/",
     "height": 361
    },
    "colab_type": "code",
    "id": "mldePo9qfFfB",
    "outputId": "d6c84bf2-7074-471c-ff80-a4e13e72dd79"
   },
   "outputs": [
    {
     "name": "stdout",
     "output_type": "stream",
     "text": [
      "[nltk_data] Downloading package stopwords to /root/nltk_data...\n",
      "[nltk_data]   Package stopwords is already up-to-date!\n",
      "WASHINGTON - The Trump administration has ordered the military to start withdrawing roughly 7,000 troops from Afghanistan in the coming months, two defense officials said Thursday, an abrupt shift in the 17-year-old war there and a decision that stunned Afghan officials, who said they had not been briefed on the plans.President Trump made the decision to pull the troops - about half the number the United States has in Afghanistan now - at the same time he decided to pull American forces out of Syria, one official said.The announcement came hours after Jim Mattis, the secretary of defense, said that he would resign from his position at the end of February after disagreeing with the president over his approach to policy in the Middle East.The whirlwind of troop withdrawals and the resignation of Mr\n",
      "Mattis leave a murky picture for what is next in the United States’ longest war, and they come as Afghanistan has been troubled by spasms of violence afflicting the capital, Kabul, and other important areas\n",
      "The United States has also been conducting talks with representatives of the Taliban, in what officials have described as discussions that could lead to formal talks to end the conflict.Senior Afghan officials and Western diplomats in Kabul woke up to the shock of the news on Friday morning, and many of them braced for chaos ahead\n",
      "Several Afghan officials, often in the loop on security planning and decision-making, said they had received no indication in recent days that the Americans would pull troops out\n",
      "The fear that Mr\n",
      "Trump might take impulsive actions, however, often loomed in the background of discussions with the United States, they said.They saw the abrupt decision as a further sign that voices from the ground were lacking in the debate over the war and that with Mr\n",
      "Mattis’s resignation, Afghanistan had lost one of the last influential voices in Washington who channeled the reality of the conflict into the White House’s deliberations.The president long campaigned on bringing troops home, but in 2017, at the request of Mr\n",
      "Mattis, he begrudgingly pledged an additional 4,000 troops to the Afghan campaign to try to hasten an end to the conflict.Though Pentagon officials have said the influx of forces - coupled with a more aggressive air campaign - was helping the war effort, Afghan forces continued to take nearly unsustainable levels of casualties and lose ground to the Taliban.The renewed American effort in 2017 was the first step in ensuring Afghan forces could become more independent without a set timeline for a withdrawal\n",
      "But with plans to quickly reduce the number of American troops in the country, it is unclear if the Afghans can hold their own against an increasingly aggressive Taliban.Currently, American airstrikes are at levels not seen since the height of the war, when tens of thousands of American troops were spread throughout the country\n",
      "That air support, officials say, consists mostly of propping up Afghan troops while they try to hold territory from a resurgent Taliban.\n",
      "\n",
      "Indexes of top ranked_sentence order are \n",
      " [(0.18175458034744765, ['WASHINGTON', '-', 'The', 'Trump', 'administration', 'has', 'ordered', 'the', 'military', 'to', 'start', 'withdrawing', 'roughly', '7,000', 'troops', 'from', 'Afghanistan', 'in', 'the', 'coming', 'months,', 'two', 'defense', 'officials', 'said', 'Thursday,', 'an', 'abrupt', 'shift', 'in', 'the', '17-year-old', 'war', 'there', 'and', 'a', 'decision', 'that', 'stunned', 'Afghan', 'officials,', 'who', 'said', 'they', 'had', 'not', 'been', 'briefed', 'on', 'the', 'plans.President', 'Trump', 'made', 'the', 'decision', 'to', 'pull', 'the', 'troops', '-', 'about', 'half', 'the', 'number', 'the', 'United', 'States', 'has', 'in', 'Afghanistan', 'now', '-', 'at', 'the', 'same', 'time', 'he', 'decided', 'to', 'pull', 'American', 'forces', 'out', 'of', 'Syria,', 'one', 'official', 'said.The', 'announcement', 'came', 'hours', 'after', 'Jim', 'Mattis,', 'the', 'secretary', 'of', 'defense,', 'said', 'that', 'he', 'would', 'resign', 'from', 'his', 'position', 'at', 'the', 'end', 'of', 'February', 'after', 'disagreeing', 'with', 'the', 'president', 'over', 'his', 'approach', 'to', 'policy', 'in', 'the', 'Middle', 'East.The', 'whirlwind', 'of', 'troop', 'withdrawals', 'and', 'the', 'resignation', 'of', 'Mr']), (0.13824891791196744, ['Mattis,', 'he', 'begrudgingly', 'pledged', 'an', 'additional', '4,000', 'troops', 'to', 'the', 'Afghan', 'campaign', 'to', 'try', 'to', 'hasten', 'an', 'end', 'to', 'the', 'conflict.Though', 'Pentagon', 'officials', 'have', 'said', 'the', 'influx', 'of', 'forces', '-', 'coupled', 'with', 'a', 'more', 'aggressive', 'air', 'campaign', '-', 'was', 'helping', 'the', 'war', 'effort,', 'Afghan', 'forces', 'continued', 'to', 'take', 'nearly', 'unsustainable', 'levels', 'of', 'casualties', 'and', 'lose', 'ground', 'to', 'the', 'Taliban.The', 'renewed', 'American', 'effort', 'in', '2017', 'was', 'the', 'first', 'step', 'in', 'ensuring', 'Afghan', 'forces', 'could', 'become', 'more', 'independent', 'without', 'a', 'set', 'timeline', 'for', 'a', 'withdrawal']), (0.10958046837777767, ['That', 'air', 'support,', 'officials', 'say,', 'consists', 'mostly', 'of', 'propping', 'up', 'Afghan', 'troops', 'while', 'they', 'try', 'to', 'hold', 'territory', 'from', 'a', 'resurgent', 'Taliban.']), (0.10346729409101742, ['Several', 'Afghan', 'officials,', 'often', 'in', 'the', 'loop', 'on', 'security', 'planning', 'and', 'decision-making,', 'said', 'they', 'had', 'received', 'no', 'indication', 'in', 'recent', 'days', 'that', 'the', 'Americans', 'would', 'pull', 'troops', 'out']), (0.09741351986009011, ['Trump', 'might', 'take', 'impulsive', 'actions,', 'however,', 'often', 'loomed', 'in', 'the', 'background', 'of', 'discussions', 'with', 'the', 'United', 'States,', 'they', 'said.They', 'saw', 'the', 'abrupt', 'decision', 'as', 'a', 'further', 'sign', 'that', 'voices', 'from', 'the', 'ground', 'were', 'lacking', 'in', 'the', 'debate', 'over', 'the', 'war', 'and', 'that', 'with', 'Mr']), (0.09636542719692834, ['Mattis’s', 'resignation,', 'Afghanistan', 'had', 'lost', 'one', 'of', 'the', 'last', 'influential', 'voices', 'in', 'Washington', 'who', 'channeled', 'the', 'reality', 'of', 'the', 'conflict', 'into', 'the', 'White', 'House’s', 'deliberations.The', 'president', 'long', 'campaigned', 'on', 'bringing', 'troops', 'home,', 'but', 'in', '2017,', 'at', 'the', 'request', 'of', 'Mr']), (0.08766567826483271, ['But', 'with', 'plans', 'to', 'quickly', 'reduce', 'the', 'number', 'of', 'American', 'troops', 'in', 'the', 'country,', 'it', 'is', 'unclear', 'if', 'the', 'Afghans', 'can', 'hold', 'their', 'own', 'against', 'an', 'increasingly', 'aggressive', 'Taliban.Currently,', 'American', 'airstrikes', 'are', 'at', 'levels', 'not', 'seen', 'since', 'the', 'height', 'of', 'the', 'war,', 'when', 'tens', 'of', 'thousands', 'of', 'American', 'troops', 'were', 'spread', 'throughout', 'the', 'country']), (0.07999786329795833, ['The', 'United', 'States', 'has', 'also', 'been', 'conducting', 'talks', 'with', 'representatives', 'of', 'the', 'Taliban,', 'in', 'what', 'officials', 'have', 'described', 'as', 'discussions', 'that', 'could', 'lead', 'to', 'formal', 'talks', 'to', 'end', 'the', 'conflict.Senior', 'Afghan', 'officials', 'and', 'Western', 'diplomats', 'in', 'Kabul', 'woke', 'up', 'to', 'the', 'shock', 'of', 'the', 'news', 'on', 'Friday', 'morning,', 'and', 'many', 'of', 'them', 'braced', 'for', 'chaos', 'ahead']), (0.060607710349774545, ['The', 'fear', 'that', 'Mr']), (0.04489854030220567, ['Mattis', 'leave', 'a', 'murky', 'picture', 'for', 'what', 'is', 'next', 'in', 'the', 'United', 'States’', 'longest', 'war,', 'and', 'they', 'come', 'as', 'Afghanistan', 'has', 'been', 'troubled', 'by', 'spasms', 'of', 'violence', 'afflicting', 'the', 'capital,', 'Kabul,', 'and', 'other', 'important', 'areas'])]\n",
      "\n",
      "Summarize Text: \n",
      " WASHINGTON - The Trump administration has ordered the military to start withdrawing roughly 7,000 troops from Afghanistan in the coming months, two defense officials said Thursday, an abrupt shift in the 17-year-old war there and a decision that stunned Afghan officials, who said they had not been briefed on the plans.President Trump made the decision to pull the troops - about half the number the United States has in Afghanistan now - at the same time he decided to pull American forces out of Syria, one official said.The announcement came hours after Jim Mattis, the secretary of defense, said that he would resign from his position at the end of February after disagreeing with the president over his approach to policy in the Middle East.The whirlwind of troop withdrawals and the resignation of Mr. Mattis, he begrudgingly pledged an additional 4,000 troops to the Afghan campaign to try to hasten an end to the conflict.Though Pentagon officials have said the influx of forces - coupled with a more aggressive air campaign - was helping the war effort, Afghan forces continued to take nearly unsustainable levels of casualties and lose ground to the Taliban.The renewed American effort in 2017 was the first step in ensuring Afghan forces could become more independent without a set timeline for a withdrawal\n"
     ]
    }
   ],
   "source": [
    "generate_summary( \"trump.txt\", 2)"
   ]
  },
  {
   "cell_type": "markdown",
   "metadata": {
    "colab_type": "text",
    "id": "M4ZQb48njNhN"
   },
   "source": [
    "# 전체 script"
   ]
  },
  {
   "cell_type": "code",
   "execution_count": 0,
   "metadata": {
    "colab": {},
    "colab_type": "code",
    "id": "2JuHoTURjQSm"
   },
   "outputs": [],
   "source": [
    "#!/usr/bin/env python\n",
    "# coding: utf-8\n",
    "import nltk\n",
    "from nltk.corpus import stopwords\n",
    "from nltk.cluster.util import cosine_distance\n",
    "import numpy as np\n",
    "import networkx as nx\n",
    " \n",
    "def read_article(file_name):\n",
    "    file = open(file_name, \"r\")\n",
    "    filedata = file.readlines()\n",
    "    article = filedata[0].split(\". \")\n",
    "    sentences = []\n",
    "\n",
    "    for sentence in article:\n",
    "        print(sentence)\n",
    "        sentences.append(sentence.replace(\"[^a-zA-Z]\", \" \").split(\" \"))\n",
    "#     sentences.pop() \n",
    "    \n",
    "    return sentences\n",
    "\n",
    "def sentence_similarity(sent1, sent2, stopwords=None):\n",
    "    if stopwords is None:\n",
    "        stopwords = []\n",
    " \n",
    "    sent1 = [w.lower() for w in sent1]\n",
    "    sent2 = [w.lower() for w in sent2]\n",
    " \n",
    "    all_words = list(set(sent1 + sent2))\n",
    " \n",
    "    vector1 = [0] * len(all_words)\n",
    "    vector2 = [0] * len(all_words)\n",
    " \n",
    "    # build the vector for the first sentence\n",
    "    for w in sent1:\n",
    "        if w in stopwords:\n",
    "            continue\n",
    "        vector1[all_words.index(w)] += 1\n",
    " \n",
    "    # build the vector for the second sentence\n",
    "    for w in sent2:\n",
    "        if w in stopwords:\n",
    "            continue\n",
    "        vector2[all_words.index(w)] += 1\n",
    " \n",
    "    return 1 - cosine_distance(vector1, vector2)\n",
    " \n",
    "def build_similarity_matrix(sentences, stop_words):\n",
    "    # Create an empty similarity matrix\n",
    "    similarity_matrix = np.zeros((len(sentences), len(sentences)))\n",
    " \n",
    "    for idx1 in range(len(sentences)):\n",
    "        for idx2 in range(len(sentences)):\n",
    "            if idx1 == idx2: #ignore if both are same sentences\n",
    "                continue \n",
    "            similarity_matrix[idx1][idx2] = sentence_similarity(sentences[idx1], sentences[idx2], stop_words)\n",
    "\n",
    "    return similarity_matrix\n",
    "\n",
    "\n",
    "def generate_summary(file_name, top_n=5):\n",
    "    nltk.download(\"stopwords\")\n",
    "    stop_words = stopwords.words('english')\n",
    "    summarize_text = []\n",
    "\n",
    "    # Step 1 - Read text anc split it\n",
    "    sentences =  read_article(file_name)\n",
    "\n",
    "    # Step 2 - Generate Similary Martix across sentences\n",
    "    sentence_similarity_martix = build_similarity_matrix(sentences, stop_words)\n",
    "\n",
    "    # Step 3 - Rank sentences in similarity martix\n",
    "    sentence_similarity_graph = nx.from_numpy_array(sentence_similarity_martix)\n",
    "    scores = nx.pagerank(sentence_similarity_graph)\n",
    "\n",
    "    # Step 4 - Sort the rank and pick top sentences\n",
    "    ranked_sentence = sorted(((scores[i],s) for i,s in enumerate(sentences)), reverse=True)    \n",
    "    print(\"Indexes of top ranked_sentence order are \", ranked_sentence)    \n",
    "\n",
    "    for i in range(top_n):\n",
    "      summarize_text.append(\" \".join(ranked_sentence[i][1]))\n",
    "\n",
    "    # Step 5 - Offcourse, output the summarize texr\n",
    "    print(\"Summarize Text: \\n\", \". \".join(summarize_text))\n",
    "\n",
    "# let's begin\n",
    "generate_summary( \"msft.txt\", 2)"
   ]
  }
 ],
 "metadata": {
  "colab": {
   "collapsed_sections": [],
   "name": "edubey/text-summarizer.ipynb",
   "provenance": []
  },
  "hide_input": false,
  "kernelspec": {
   "display_name": "Python 3",
   "language": "python",
   "name": "python3"
  },
  "language_info": {
   "codemirror_mode": {
    "name": "ipython",
    "version": 3
   },
   "file_extension": ".py",
   "mimetype": "text/x-python",
   "name": "python",
   "nbconvert_exporter": "python",
   "pygments_lexer": "ipython3",
   "version": "3.7.3"
  },
  "toc": {
   "base_numbering": 1,
   "nav_menu": {},
   "number_sections": true,
   "sideBar": true,
   "skip_h1_title": false,
   "title_cell": "Table of Contents",
   "title_sidebar": "Contents",
   "toc_cell": false,
   "toc_position": {},
   "toc_section_display": true,
   "toc_window_display": false
  },
  "varInspector": {
   "cols": {
    "lenName": 16,
    "lenType": 16,
    "lenVar": 40
   },
   "kernels_config": {
    "python": {
     "delete_cmd_postfix": "",
     "delete_cmd_prefix": "del ",
     "library": "var_list.py",
     "varRefreshCmd": "print(var_dic_list())"
    },
    "r": {
     "delete_cmd_postfix": ") ",
     "delete_cmd_prefix": "rm(",
     "library": "var_list.r",
     "varRefreshCmd": "cat(var_dic_list()) "
    }
   },
   "types_to_exclude": [
    "module",
    "function",
    "builtin_function_or_method",
    "instance",
    "_Feature"
   ],
   "window_display": false
  }
 },
 "nbformat": 4,
 "nbformat_minor": 1
}
